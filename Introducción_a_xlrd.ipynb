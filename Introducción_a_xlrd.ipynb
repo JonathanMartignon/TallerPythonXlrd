{
  "nbformat": 4,
  "nbformat_minor": 0,
  "metadata": {
    "colab": {
      "name": "Introducción a xlrd.ipynb",
      "provenance": [],
      "collapsed_sections": [
        "6VdRv9rBX2Zq",
        "-FWcB6fbX5aA",
        "ZyMFsppSX4HZ"
      ],
      "authorship_tag": "ABX9TyNT0xw+PYcBO6iwSu5656n5",
      "include_colab_link": true
    },
    "kernelspec": {
      "name": "python3",
      "display_name": "Python 3"
    },
    "language_info": {
      "name": "python"
    }
  },
  "cells": [
    {
      "cell_type": "markdown",
      "metadata": {
        "id": "view-in-github",
        "colab_type": "text"
      },
      "source": [
        "<a href=\"https://colab.research.google.com/github/JonathanMartignon/TallerPythonXlrd/blob/main/Introducci%C3%B3n_a_xlrd.ipynb\" target=\"_parent\"><img src=\"https://colab.research.google.com/assets/colab-badge.svg\" alt=\"Open In Colab\"/></a>"
      ]
    },
    {
      "cell_type": "markdown",
      "metadata": {
        "id": "-k4jK7nPW-fR"
      },
      "source": [
        "# Libreta introductoria a la lectura de excel con python.\n",
        "## Por: Jonathan Martiñón\n",
        "Para mayor información, consultar: [Documentación](https://xlrd.readthedocs.io/en/latest/) [Instalación](https://pypi.org/project/xlrd/)\n",
        "\n",
        "Otras librerías: [Librerías](http://www.python-excel.org/)\n",
        "\n",
        "Documento a leer: [Excel](https://docs.google.com/spreadsheets/d/111PfcT5QoTOtpnLIRXTlj3TFiN8FR56wYQcgsrBxNsY/edit?usp=sharing)"
      ]
    },
    {
      "cell_type": "markdown",
      "metadata": {
        "id": "Tl6JJY7fEH2Z"
      },
      "source": [
        "---\n",
        "\n",
        "# XLRD\n",
        "\n",
        "---"
      ]
    },
    {
      "cell_type": "markdown",
      "metadata": {
        "id": "6VdRv9rBX2Zq"
      },
      "source": [
        "# Librerías"
      ]
    },
    {
      "cell_type": "code",
      "metadata": {
        "id": "UKN2o5QCgB2F"
      },
      "source": [
        "try:\n",
        "  import xlrd\n",
        "except:\n",
        "  !pip install xlrd\n",
        "  import xlrd"
      ],
      "execution_count": null,
      "outputs": []
    },
    {
      "cell_type": "markdown",
      "metadata": {
        "id": "-FWcB6fbX5aA"
      },
      "source": [
        "# Funciones"
      ]
    },
    {
      "cell_type": "code",
      "metadata": {
        "id": "ZtzlahRpX_-Y"
      },
      "source": [
        "def cuenta_lista(lista):\n",
        "  '''\n",
        "  @Autor: Jonathan Martiñón\n",
        "\n",
        "  @Descripción:   Función encargada de mostrar los elementos\n",
        "                  de una lista, por números.\n",
        "  @Parámetros:\n",
        "\n",
        "  lista           lista de elementos a enumerar       LIST\n",
        "\n",
        "  @Devuelve:      None\n",
        "\n",
        "  @Ejemplo:\n",
        "\n",
        "  lista = [\"Manzana\", \"Pera\", \"Jícama\"]\n",
        "  cuenta_lista(lista)\n",
        "  >>> 1.- Manzana\n",
        "  >>> 2.- Pera\n",
        "  >>> 3.- Jícama\n",
        "  '''\n",
        "\n",
        "  # Recorremos cada elemento en la lista\n",
        "  # Numerándolos al mismo tiempo\n",
        "  for i,elemento in enumerate(lista):\n",
        "\n",
        "    # Dado que la numeración inicia en 0\n",
        "    # Se sumará 1, para iniciar en 1\n",
        "    print(f\"{i+1}.- {elemento}\")"
      ],
      "execution_count": null,
      "outputs": []
    },
    {
      "cell_type": "markdown",
      "metadata": {
        "id": "ZyMFsppSX4HZ"
      },
      "source": [
        "# Ejemplos"
      ]
    },
    {
      "cell_type": "markdown",
      "metadata": {
        "id": "7qStM526cGZU"
      },
      "source": [
        "## Lectura de datos"
      ]
    },
    {
      "cell_type": "code",
      "metadata": {
        "id": "PrD8NbTNgNUe",
        "colab": {
          "base_uri": "https://localhost:8080/"
        },
        "outputId": "b1ef3c7a-871e-4c6f-e727-0ef32e632891"
      },
      "source": [
        "documento = xlrd.open_workbook(\"./Documento interactivo para taller.xlsx\")\n",
        "documento"
      ],
      "execution_count": null,
      "outputs": [
        {
          "output_type": "execute_result",
          "data": {
            "text/plain": [
              "<xlrd.book.Book at 0x7f6e2c459450>"
            ]
          },
          "metadata": {
            "tags": []
          },
          "execution_count": 35
        }
      ]
    },
    {
      "cell_type": "markdown",
      "metadata": {
        "id": "UUDtJneAgWxz"
      },
      "source": [
        "## Análisis de hojas"
      ]
    },
    {
      "cell_type": "code",
      "metadata": {
        "colab": {
          "base_uri": "https://localhost:8080/"
        },
        "id": "0g42fqztiim2",
        "outputId": "61c070e9-d7f7-450e-993a-b113d5db9819"
      },
      "source": [
        "# Contamos las hojas en el documento\n",
        "print(f\"Contamos con {documento.nsheets} hojas\")"
      ],
      "execution_count": null,
      "outputs": [
        {
          "output_type": "stream",
          "text": [
            "Contamos con 4 hojas\n"
          ],
          "name": "stdout"
        }
      ]
    },
    {
      "cell_type": "code",
      "metadata": {
        "colab": {
          "base_uri": "https://localhost:8080/"
        },
        "id": "1uXb5KEpgSAR",
        "outputId": "60310bf6-de2b-486d-9c0d-02a82b2c2683"
      },
      "source": [
        "# Mostramos los nombres de las hojas\n",
        "documento.sheet_names()"
      ],
      "execution_count": null,
      "outputs": [
        {
          "output_type": "execute_result",
          "data": {
            "text/plain": [
              "['Calificaciones', 'Alumnos', 'Materias', 'Profesores']"
            ]
          },
          "metadata": {
            "tags": []
          },
          "execution_count": 37
        }
      ]
    },
    {
      "cell_type": "code",
      "metadata": {
        "colab": {
          "base_uri": "https://localhost:8080/"
        },
        "id": "QWY7OGEai5Ux",
        "outputId": "f5f8e893-c53f-422b-b796-3271f0960374"
      },
      "source": [
        "# Usando una función\n",
        "cuenta_lista(documento.sheet_names())"
      ],
      "execution_count": null,
      "outputs": [
        {
          "output_type": "stream",
          "text": [
            "1.- Calificaciones\n",
            "2.- Alumnos\n",
            "3.- Materias\n",
            "4.- Profesores\n"
          ],
          "name": "stdout"
        }
      ]
    },
    {
      "cell_type": "markdown",
      "metadata": {
        "id": "ZBmXEPSGgjdR"
      },
      "source": [
        "### Analizando una hoja"
      ]
    },
    {
      "cell_type": "code",
      "metadata": {
        "colab": {
          "base_uri": "https://localhost:8080/",
          "height": 35
        },
        "id": "GD1aVo3OghdI",
        "outputId": "e2d54602-cd2f-49cd-f278-ecc199c35d07"
      },
      "source": [
        "documento.sheet_names()[0]"
      ],
      "execution_count": null,
      "outputs": [
        {
          "output_type": "execute_result",
          "data": {
            "application/vnd.google.colaboratory.intrinsic+json": {
              "type": "string"
            },
            "text/plain": [
              "'Calificaciones'"
            ]
          },
          "metadata": {
            "tags": []
          },
          "execution_count": 39
        }
      ]
    },
    {
      "cell_type": "code",
      "metadata": {
        "id": "XNKWXi_KiJIk"
      },
      "source": [
        "# Obteniendo una hoja por su nombre\n",
        "hoja1 = documento.sheet_by_name(\"Calificaciones\")"
      ],
      "execution_count": null,
      "outputs": []
    },
    {
      "cell_type": "code",
      "metadata": {
        "id": "IH-V-AZZgtU-"
      },
      "source": [
        "# Obteniendo una hoja por su índice\n",
        "hoja_1_2 = documento.sheet_by_index(0)"
      ],
      "execution_count": null,
      "outputs": []
    },
    {
      "cell_type": "code",
      "metadata": {
        "colab": {
          "base_uri": "https://localhost:8080/"
        },
        "id": "Z_DBjV48iQiK",
        "outputId": "1b214be5-7c19-4f4c-aefb-c973d58939d5"
      },
      "source": [
        "#Renglones y columnas en la hoja\n",
        "print(f\"Hoja 1\\nNombre: {hoja1.name}\\nRenglones: {hoja1.nrows}\\nColumnas: {hoja1.ncols}\")"
      ],
      "execution_count": null,
      "outputs": [
        {
          "output_type": "stream",
          "text": [
            "Hoja 1\n",
            "Nombre: Calificaciones\n",
            "Renglones: 21\n",
            "Columnas: 7\n"
          ],
          "name": "stdout"
        }
      ]
    },
    {
      "cell_type": "code",
      "metadata": {
        "colab": {
          "base_uri": "https://localhost:8080/"
        },
        "id": "PQfeQKtW1Jto",
        "outputId": "d0d6252f-dc95-41f4-85f6-bf16a6a465a6"
      },
      "source": [
        "#Renglones y columnas en la hoja\n",
        "print(f\"Hoja 1\\nNombre: {hoja_1_2.name}\\nRenglones: {hoja_1_2.nrows}\\nColumnas: {hoja_1_2.ncols}\")"
      ],
      "execution_count": null,
      "outputs": [
        {
          "output_type": "stream",
          "text": [
            "Hoja 1\n",
            "Nombre: Calificaciones\n",
            "Renglones: 21\n",
            "Columnas: 7\n"
          ],
          "name": "stdout"
        }
      ]
    },
    {
      "cell_type": "code",
      "metadata": {
        "colab": {
          "base_uri": "https://localhost:8080/"
        },
        "id": "wT8uKY2Yytdz",
        "outputId": "d8c48232-ee48-422e-ff9a-a93f6c4aca7e"
      },
      "source": [
        "# Análisis por renglón\n",
        "hoja1.row(0)"
      ],
      "execution_count": null,
      "outputs": [
        {
          "output_type": "execute_result",
          "data": {
            "text/plain": [
              "[text:'Documento que servirá como guía para el taller',\n",
              " empty:'',\n",
              " empty:'',\n",
              " empty:'',\n",
              " empty:'',\n",
              " empty:'',\n",
              " empty:'']"
            ]
          },
          "metadata": {
            "tags": []
          },
          "execution_count": 44
        }
      ]
    },
    {
      "cell_type": "code",
      "metadata": {
        "colab": {
          "base_uri": "https://localhost:8080/"
        },
        "id": "38T5KmL6-zMN",
        "outputId": "b75b21d4-9028-41b8-ea3b-eefc57312bbd"
      },
      "source": [
        "# Análisis por renglón\n",
        "hoja1.row(1)"
      ],
      "execution_count": null,
      "outputs": [
        {
          "output_type": "execute_result",
          "data": {
            "text/plain": [
              "[text:'Por: Jonathan Martiñón',\n",
              " empty:'',\n",
              " empty:'',\n",
              " empty:'',\n",
              " empty:'',\n",
              " empty:'',\n",
              " empty:'']"
            ]
          },
          "metadata": {
            "tags": []
          },
          "execution_count": 45
        }
      ]
    },
    {
      "cell_type": "code",
      "metadata": {
        "colab": {
          "base_uri": "https://localhost:8080/"
        },
        "id": "RC6_odlW-02X",
        "outputId": "1b7dbc88-01ab-4b10-a5c6-e480f8e384ff"
      },
      "source": [
        "# Análisis por renglón\n",
        "hoja1.row(2)"
      ],
      "execution_count": null,
      "outputs": [
        {
          "output_type": "execute_result",
          "data": {
            "text/plain": [
              "[text:'Se considera en Final a todo alumno con calificación menor a 8',\n",
              " empty:'',\n",
              " empty:'',\n",
              " empty:'',\n",
              " empty:'',\n",
              " empty:'',\n",
              " empty:'']"
            ]
          },
          "metadata": {
            "tags": []
          },
          "execution_count": 46
        }
      ]
    },
    {
      "cell_type": "code",
      "metadata": {
        "colab": {
          "base_uri": "https://localhost:8080/"
        },
        "id": "Tv0Bj0WQjvtT",
        "outputId": "8b713a13-a535-4b0c-9022-88fa4530d100"
      },
      "source": [
        "# Análisis por renglón\n",
        "hoja1.row(3)"
      ],
      "execution_count": null,
      "outputs": [
        {
          "output_type": "execute_result",
          "data": {
            "text/plain": [
              "[text:'#',\n",
              " text:'Id Alumno',\n",
              " text:'Id Materia',\n",
              " text:'Id Profesor',\n",
              " text:'Calificación',\n",
              " text:'Estado',\n",
              " text:'Fecha Registro']"
            ]
          },
          "metadata": {
            "tags": []
          },
          "execution_count": 47
        }
      ]
    },
    {
      "cell_type": "code",
      "metadata": {
        "colab": {
          "base_uri": "https://localhost:8080/"
        },
        "id": "yBi_lbmQjy0c",
        "outputId": "c7a77569-f066-41dc-e1dc-9ca48d335e16"
      },
      "source": [
        "# Análisis por renglón\n",
        "hoja1.row(4)"
      ],
      "execution_count": null,
      "outputs": [
        {
          "output_type": "execute_result",
          "data": {
            "text/plain": [
              "[number:1.0,\n",
              " number:10.0,\n",
              " number:2.0,\n",
              " number:2.0,\n",
              " number:6.0,\n",
              " text:'Reprobado',\n",
              " xldate:44412.0]"
            ]
          },
          "metadata": {
            "tags": []
          },
          "execution_count": 48
        }
      ]
    },
    {
      "cell_type": "code",
      "metadata": {
        "colab": {
          "base_uri": "https://localhost:8080/"
        },
        "id": "JG0LEn6SyrhR",
        "outputId": "10ec82c0-c81b-4a92-97a2-41c2594df55a"
      },
      "source": [
        "# Diccionario para columnas\n",
        "columnas_dict = {0:\"A\",1:\"B\",2:\"C\",3:\"D\",4:\"E\",5:\"F\",\n",
        "                 6:\"G\",7:\"H\",8:\"I\",9:\"J\",10:\"K\",11:\"L\",\n",
        "                 12:\"M\"}\n",
        "renglon = 4 # 1\n",
        "columna = 0 # D\n",
        "print(f\"Valor en la celda {columnas_dict[columna]}{renglon+1} es: {hoja1.cell_value(rowx=renglon, colx=columna)}\")\n",
        "print(f\"Es de tipo: {type(hoja1.cell_value(rowx=renglon, colx=columna))}\")"
      ],
      "execution_count": null,
      "outputs": [
        {
          "output_type": "stream",
          "text": [
            "Valor en la celda A5 es: 1.0\n",
            "Es de tipo: <class 'float'>\n"
          ],
          "name": "stdout"
        }
      ]
    },
    {
      "cell_type": "code",
      "metadata": {
        "colab": {
          "base_uri": "https://localhost:8080/"
        },
        "id": "Nm_EB8-Gj_sb",
        "outputId": "be298443-b73d-4d31-d5a2-ff8fd80e7d57"
      },
      "source": [
        "# Modificando de flotante a entero\n",
        "int(hoja1.cell_value(rowx=renglon, colx=columna))"
      ],
      "execution_count": null,
      "outputs": [
        {
          "output_type": "execute_result",
          "data": {
            "text/plain": [
              "1"
            ]
          },
          "metadata": {
            "tags": []
          },
          "execution_count": 50
        }
      ]
    },
    {
      "cell_type": "code",
      "metadata": {
        "colab": {
          "base_uri": "https://localhost:8080/"
        },
        "id": "f4byu82I22Va",
        "outputId": "df071895-d1ea-49b2-e835-8ded7b483239"
      },
      "source": [
        "renglon = 4 # 3\n",
        "columna = 5 # D\n",
        "print(f\"Valor en la celda {columnas_dict[columna]}{renglon+1} es: {hoja1.cell_value(rowx=renglon, colx=columna)}\")\n",
        "print(f\"Es de tipo: {type(hoja1.cell_value(rowx=renglon, colx=columna))}\")"
      ],
      "execution_count": null,
      "outputs": [
        {
          "output_type": "stream",
          "text": [
            "Valor en la celda F5 es: Reprobado\n",
            "Es de tipo: <class 'str'>\n"
          ],
          "name": "stdout"
        }
      ]
    },
    {
      "cell_type": "code",
      "metadata": {
        "colab": {
          "base_uri": "https://localhost:8080/"
        },
        "id": "eZXRPxmC27TH",
        "outputId": "9713147a-67fa-4510-8a07-740ce41b67fb"
      },
      "source": [
        "# Probando con valor faltante\n",
        "hoja2 = documento.sheet_by_index(1)\n",
        "renglon = 6 # 3\n",
        "columna = 1 # E\n",
        "print(f\"Valor en la celda {columnas_dict[columna]}{renglon+1} es: {hoja2.cell_value(rowx=renglon, colx=columna)}\")\n",
        "print(f\"Es de tipo: {type(hoja1.cell_value(rowx=renglon, colx=columna))}\")"
      ],
      "execution_count": null,
      "outputs": [
        {
          "output_type": "stream",
          "text": [
            "Valor en la celda B7 es: \n",
            "Es de tipo: <class 'float'>\n"
          ],
          "name": "stdout"
        }
      ]
    },
    {
      "cell_type": "code",
      "metadata": {
        "colab": {
          "base_uri": "https://localhost:8080/"
        },
        "id": "RGf8Cymz-61-",
        "outputId": "a087dab2-17d1-4ca8-8534-937ef7c3b082"
      },
      "source": [
        "# Obteniendo la celda que nos interesa\n",
        "hoja1.row(4)[1]"
      ],
      "execution_count": null,
      "outputs": [
        {
          "output_type": "execute_result",
          "data": {
            "text/plain": [
              "number:10.0"
            ]
          },
          "metadata": {
            "tags": []
          },
          "execution_count": 54
        }
      ]
    },
    {
      "cell_type": "code",
      "metadata": {
        "colab": {
          "base_uri": "https://localhost:8080/"
        },
        "id": "8v3CavE2_DmD",
        "outputId": "fab57467-c347-4416-e034-abb9d4179493"
      },
      "source": [
        "# Obteniendo su valor\n",
        "hoja1.row(4)[1].value"
      ],
      "execution_count": null,
      "outputs": [
        {
          "output_type": "execute_result",
          "data": {
            "text/plain": [
              "10.0"
            ]
          },
          "metadata": {
            "tags": []
          },
          "execution_count": 55
        }
      ]
    },
    {
      "cell_type": "code",
      "metadata": {
        "colab": {
          "base_uri": "https://localhost:8080/",
          "height": 35
        },
        "id": "1DA1ldpQADTP",
        "outputId": "33cbbb30-3707-4b31-f30b-e9922d0f70d2"
      },
      "source": [
        "# Obteniendo la celda que nos interesa\n",
        "hoja1.row(2)[4].value"
      ],
      "execution_count": null,
      "outputs": [
        {
          "output_type": "execute_result",
          "data": {
            "application/vnd.google.colaboratory.intrinsic+json": {
              "type": "string"
            },
            "text/plain": [
              "''"
            ]
          },
          "metadata": {
            "tags": []
          },
          "execution_count": 56
        }
      ]
    },
    {
      "cell_type": "code",
      "metadata": {
        "colab": {
          "base_uri": "https://localhost:8080/"
        },
        "id": "Kt0R_t8CqUXW",
        "outputId": "af0208b3-4491-4ec5-d48a-61d3b9b4974a"
      },
      "source": [
        "# Obteniendo valor de tipo fecha\n",
        "# Deberíamos tener 2021-08-04 YYY-MM-DD\n",
        "hoja1.row(4)[-1]"
      ],
      "execution_count": null,
      "outputs": [
        {
          "output_type": "execute_result",
          "data": {
            "text/plain": [
              "xldate:44412.0"
            ]
          },
          "metadata": {
            "tags": []
          },
          "execution_count": 62
        }
      ]
    },
    {
      "cell_type": "code",
      "metadata": {
        "colab": {
          "base_uri": "https://localhost:8080/"
        },
        "id": "hbanKWPeBN-e",
        "outputId": "c694b948-f347-40b3-fa8b-497c201a55bd"
      },
      "source": [
        "print(f\"Tipo: {hoja1.row(4)[-1].ctype}\")\n",
        "print(f\"Celda tipo fecha: {xlrd.XL_CELL_DATE}\")"
      ],
      "execution_count": null,
      "outputs": [
        {
          "output_type": "stream",
          "text": [
            "Tipo: 3\n",
            "Celda tipo fecha: 3\n"
          ],
          "name": "stdout"
        }
      ]
    },
    {
      "cell_type": "code",
      "metadata": {
        "colab": {
          "base_uri": "https://localhost:8080/"
        },
        "id": "RgXJHJzQo8Gp",
        "outputId": "d220e9b2-3d53-4388-c6ec-db8ab86930a2"
      },
      "source": [
        "# Podemos usar la propiedad para detectar celdas de tipo fecha\n",
        "hoja1.row(4)[-1].ctype == xlrd.XL_CELL_DATE"
      ],
      "execution_count": null,
      "outputs": [
        {
          "output_type": "execute_result",
          "data": {
            "text/plain": [
              "True"
            ]
          },
          "metadata": {
            "tags": []
          },
          "execution_count": 69
        }
      ]
    },
    {
      "cell_type": "code",
      "metadata": {
        "id": "XwdlaOU4DLq8"
      },
      "source": [
        "from datetime import datetime"
      ],
      "execution_count": null,
      "outputs": []
    },
    {
      "cell_type": "code",
      "metadata": {
        "colab": {
          "base_uri": "https://localhost:8080/"
        },
        "id": "IRHS1sAxtJSP",
        "outputId": "60f2679d-1357-498f-9f5c-16be8d56a868"
      },
      "source": [
        "fecha = hoja1.row(4)[-1].value\n",
        "datetime(*xlrd.xldate_as_tuple(fecha, documento.datemode))"
      ],
      "execution_count": null,
      "outputs": [
        {
          "output_type": "execute_result",
          "data": {
            "text/plain": [
              "datetime.datetime(2021, 8, 4, 0, 0)"
            ]
          },
          "metadata": {
            "tags": []
          },
          "execution_count": 82
        }
      ]
    },
    {
      "cell_type": "code",
      "metadata": {
        "colab": {
          "base_uri": "https://localhost:8080/"
        },
        "id": "xU5Qv-7luhi3",
        "outputId": "aa463a81-5442-4062-aa10-15edba3a5008"
      },
      "source": [
        "datetime.strptime('21/08/10', '%y/%m/%d')"
      ],
      "execution_count": null,
      "outputs": [
        {
          "output_type": "execute_result",
          "data": {
            "text/plain": [
              "datetime.datetime(2021, 8, 10, 0, 0)"
            ]
          },
          "metadata": {
            "tags": []
          },
          "execution_count": 85
        }
      ]
    },
    {
      "cell_type": "code",
      "metadata": {
        "id": "0YqUj7kTEk3p"
      },
      "source": [
        "dia1 = datetime(*xlrd.xldate_as_tuple(fecha, documento.datemode))\n",
        "dia2 = datetime.strptime('21/08/10', '%y/%m/%d')"
      ],
      "execution_count": null,
      "outputs": []
    },
    {
      "cell_type": "code",
      "metadata": {
        "colab": {
          "base_uri": "https://localhost:8080/"
        },
        "id": "MkNjjPqgEpmB",
        "outputId": "02e29b42-da36-4748-cadd-2926fb75d891"
      },
      "source": [
        "abs(dia1 - dia2)"
      ],
      "execution_count": null,
      "outputs": [
        {
          "output_type": "execute_result",
          "data": {
            "text/plain": [
              "datetime.timedelta(days=6)"
            ]
          },
          "metadata": {
            "tags": []
          },
          "execution_count": 87
        }
      ]
    },
    {
      "cell_type": "markdown",
      "metadata": {
        "id": "Pz-wURRrFStl"
      },
      "source": [
        "---\n",
        "# OS\n",
        "---"
      ]
    },
    {
      "cell_type": "code",
      "metadata": {
        "id": "SAWsg-9zFW4J"
      },
      "source": [
        "import os "
      ],
      "execution_count": null,
      "outputs": []
    },
    {
      "cell_type": "code",
      "metadata": {
        "colab": {
          "base_uri": "https://localhost:8080/"
        },
        "id": "z5oQpHvnFYgH",
        "outputId": "1c1ba639-1a51-422a-c71a-62f0e6def8fd"
      },
      "source": [
        "os.listdir(\"./\")"
      ],
      "execution_count": null,
      "outputs": [
        {
          "output_type": "execute_result",
          "data": {
            "text/plain": [
              "['.config',\n",
              " 'Documento interactivo para taller.xlsx',\n",
              " '.ipynb_checkpoints',\n",
              " 'sample_data']"
            ]
          },
          "metadata": {
            "tags": []
          },
          "execution_count": 203
        }
      ]
    }
  ]
}