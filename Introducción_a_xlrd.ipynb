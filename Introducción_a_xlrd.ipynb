{
  "nbformat": 4,
  "nbformat_minor": 0,
  "metadata": {
    "colab": {
      "name": "Introducción a xlrd.ipynb",
      "provenance": [],
      "collapsed_sections": [
        "WK-pArqlxRFi",
        "hZB__PEmxhTd",
        "EwPfdWP82AwD",
        "Ylv7G88n2Co8",
        "XWGW2ldl0uYH",
        "Aq4wdITu1hJX",
        "HOa61NhrwlvP",
        "sOiFn3bA2OL9",
        "632SpVpyAQ4r",
        "fhwd22HlAS5X",
        "fyTFBWr1AT1t",
        "rw0WWZOd3wgu",
        "6VdRv9rBX2Zq",
        "-FWcB6fbX5aA",
        "ZyMFsppSX4HZ",
        "Pz-wURRrFStl"
      ],
      "authorship_tag": "ABX9TyOOl1Sitea1NV1X1Nhng85Q",
      "include_colab_link": true
    },
    "kernelspec": {
      "name": "python3",
      "display_name": "Python 3"
    },
    "language_info": {
      "name": "python"
    }
  },
  "cells": [
    {
      "cell_type": "markdown",
      "metadata": {
        "id": "view-in-github",
        "colab_type": "text"
      },
      "source": [
        "<a href=\"https://colab.research.google.com/github/JonathanMartignon/TallerPythonXlrd/blob/main/Introducci%C3%B3n_a_xlrd.ipynb\" target=\"_parent\"><img src=\"https://colab.research.google.com/assets/colab-badge.svg\" alt=\"Open In Colab\"/></a>"
      ]
    },
    {
      "cell_type": "markdown",
      "metadata": {
        "id": "-k4jK7nPW-fR"
      },
      "source": [
        "# Libreta introductoria a la lectura de excel con python.\n",
        "## Por: Jonathan Martiñón\n",
        "Para mayor información, consultar: [Documentación](https://xlrd.readthedocs.io/en/latest/) [Instalación](https://pypi.org/project/xlrd/)\n",
        "\n",
        "Otras librerías: [Librerías](http://www.python-excel.org/)\n",
        "\n",
        "[Excel](https://docs.google.com/spreadsheets/d/111PfcT5QoTOtpnLIRXTlj3TFiN8FR56wYQcgsrBxNsY/edit?usp=sharing)"
      ]
    },
    {
      "cell_type": "markdown",
      "metadata": {
        "id": "vEbeGIOZwYsO"
      },
      "source": [
        "# Introducción Básica a Python"
      ]
    },
    {
      "cell_type": "markdown",
      "metadata": {
        "id": "HVKpnCDbcBi4"
      },
      "source": [
        "## Instalar en Windows: [Microsoft](https://docs.microsoft.com/en-us/windows/python/beginners)\n",
        "\n",
        "1. Abrimos nuestra Microsoft Store\n",
        "2. Buscamos *Python 3.7*\n",
        "3. Seleccionamos \"Obtener\" y esperamos.\n",
        "4. Abrimos cmd (Podemos buscar la terminal en el buscador windows)\n",
        "5. Comprobamos con `python --version`\n",
        "6. Nos dirigimos al sitio de [Anaconda](https://www.anaconda.com/products/individual) y descargamos nuestra versión\n",
        "7. Abrimos el ejecutable y seguimos las instrucciones\n",
        "8. No es necesario registrarse, basta con buscar Anaconda en el explorador"
      ]
    },
    {
      "cell_type": "markdown",
      "metadata": {
        "id": "WK-pArqlxRFi"
      },
      "source": [
        "## Variables"
      ]
    },
    {
      "cell_type": "code",
      "metadata": {
        "colab": {
          "base_uri": "https://localhost:8080/"
        },
        "id": "gi2o0-5DxQ3d",
        "outputId": "0017a217-ed44-48bb-dc8d-f43670132949"
      },
      "source": [
        "# Enteros\n",
        "variable = 2\n",
        "print(variable)\n",
        "print(type(variable))"
      ],
      "execution_count": null,
      "outputs": [
        {
          "output_type": "stream",
          "text": [
            "2\n",
            "<class 'int'>\n"
          ],
          "name": "stdout"
        }
      ]
    },
    {
      "cell_type": "code",
      "metadata": {
        "colab": {
          "base_uri": "https://localhost:8080/"
        },
        "id": "ugIq5uPNxYgA",
        "outputId": "f8726492-6c9f-469c-f338-e640a0947671"
      },
      "source": [
        "# Flotantes\n",
        "variable = 2.0\n",
        "print(variable)\n",
        "print(type(variable))"
      ],
      "execution_count": null,
      "outputs": [
        {
          "output_type": "stream",
          "text": [
            "2.0\n",
            "<class 'float'>\n"
          ],
          "name": "stdout"
        }
      ]
    },
    {
      "cell_type": "code",
      "metadata": {
        "colab": {
          "base_uri": "https://localhost:8080/"
        },
        "id": "7nPtsCGAxbIb",
        "outputId": "fe07b0b0-6359-474c-f245-9ee08dc90ef9"
      },
      "source": [
        "# Cadenas\n",
        "variable = \"2\"\n",
        "print(variable)\n",
        "print(type(variable))"
      ],
      "execution_count": null,
      "outputs": [
        {
          "output_type": "stream",
          "text": [
            "2\n",
            "<class 'str'>\n"
          ],
          "name": "stdout"
        }
      ]
    },
    {
      "cell_type": "code",
      "metadata": {
        "colab": {
          "base_uri": "https://localhost:8080/",
          "height": 35
        },
        "id": "P26AjYVA9Zjb",
        "outputId": "1ce1ff82-97c9-4799-e60e-bf3bfcddb9df"
      },
      "source": [
        "# una cadena puede tener comillas internas\n",
        "# Siempre que sean distintas a las que indican que es cadena\n",
        "\"Ejemplo de 'comillas'\""
      ],
      "execution_count": null,
      "outputs": [
        {
          "output_type": "execute_result",
          "data": {
            "application/vnd.google.colaboratory.intrinsic+json": {
              "type": "string"
            },
            "text/plain": [
              "\"Ejemplo de 'comillas'\""
            ]
          },
          "metadata": {
            "tags": []
          },
          "execution_count": 162
        }
      ]
    },
    {
      "cell_type": "markdown",
      "metadata": {
        "id": "hZB__PEmxhTd"
      },
      "source": [
        "## Operaciones"
      ]
    },
    {
      "cell_type": "markdown",
      "metadata": {
        "id": "EwPfdWP82AwD"
      },
      "source": [
        "#### Básicas"
      ]
    },
    {
      "cell_type": "code",
      "metadata": {
        "colab": {
          "base_uri": "https://localhost:8080/"
        },
        "id": "MkmhfHhayv4J",
        "outputId": "b986ccff-f21f-4004-fdb0-5861c83da729"
      },
      "source": [
        "# Módulo\n",
        "200 % 2"
      ],
      "execution_count": null,
      "outputs": [
        {
          "output_type": "execute_result",
          "data": {
            "text/plain": [
              "0"
            ]
          },
          "metadata": {
            "tags": []
          },
          "execution_count": 119
        }
      ]
    },
    {
      "cell_type": "code",
      "metadata": {
        "colab": {
          "base_uri": "https://localhost:8080/"
        },
        "id": "koCmib_eyokW",
        "outputId": "38cf6da4-702e-4bc3-f83f-c1262efeaddd"
      },
      "source": [
        "# Multiplicación\n",
        "2*10"
      ],
      "execution_count": null,
      "outputs": [
        {
          "output_type": "execute_result",
          "data": {
            "text/plain": [
              "20"
            ]
          },
          "metadata": {
            "tags": []
          },
          "execution_count": 113
        }
      ]
    },
    {
      "cell_type": "code",
      "metadata": {
        "colab": {
          "base_uri": "https://localhost:8080/"
        },
        "id": "NKofqzr1yrSV",
        "outputId": "1c0c2eaf-fb8c-43e1-e58d-1871ac86819a"
      },
      "source": [
        "# Suma\n",
        "2 + 10"
      ],
      "execution_count": null,
      "outputs": [
        {
          "output_type": "execute_result",
          "data": {
            "text/plain": [
              "12"
            ]
          },
          "metadata": {
            "tags": []
          },
          "execution_count": 114
        }
      ]
    },
    {
      "cell_type": "code",
      "metadata": {
        "colab": {
          "base_uri": "https://localhost:8080/"
        },
        "id": "pdbxEwXo_6oB",
        "outputId": "ea346f62-c2c6-4983-a1f1-13dd11b43d08"
      },
      "source": [
        "# Potencia\n",
        "2 ** 3"
      ],
      "execution_count": null,
      "outputs": [
        {
          "output_type": "execute_result",
          "data": {
            "text/plain": [
              "8"
            ]
          },
          "metadata": {
            "tags": []
          },
          "execution_count": 176
        }
      ]
    },
    {
      "cell_type": "code",
      "metadata": {
        "colab": {
          "base_uri": "https://localhost:8080/"
        },
        "id": "dL-II13P_8rz",
        "outputId": "f7f914e1-7d45-4ee0-acae-45af53365f22"
      },
      "source": [
        "# Función piso\n",
        "19 // 5"
      ],
      "execution_count": null,
      "outputs": [
        {
          "output_type": "execute_result",
          "data": {
            "text/plain": [
              "3"
            ]
          },
          "metadata": {
            "tags": []
          },
          "execution_count": 178
        }
      ]
    },
    {
      "cell_type": "code",
      "metadata": {
        "colab": {
          "base_uri": "https://localhost:8080/",
          "height": 35
        },
        "id": "n0tEmGFNyUDt",
        "outputId": "a09ee004-14bc-4fc6-bf9d-21a3dca99498"
      },
      "source": [
        "# Multiplicación por caracter\n",
        "\"a\"*10"
      ],
      "execution_count": null,
      "outputs": [
        {
          "output_type": "execute_result",
          "data": {
            "application/vnd.google.colaboratory.intrinsic+json": {
              "type": "string"
            },
            "text/plain": [
              "'aaaaaaaaaa'"
            ]
          },
          "metadata": {
            "tags": []
          },
          "execution_count": 107
        }
      ]
    },
    {
      "cell_type": "code",
      "metadata": {
        "colab": {
          "base_uri": "https://localhost:8080/",
          "height": 35
        },
        "id": "1_cmtovkxef0",
        "outputId": "1d0e5d57-841e-43bd-d377-3be067bdef60"
      },
      "source": [
        "# Multiplicación por cadena\n",
        "\"201 \" * 2"
      ],
      "execution_count": null,
      "outputs": [
        {
          "output_type": "execute_result",
          "data": {
            "application/vnd.google.colaboratory.intrinsic+json": {
              "type": "string"
            },
            "text/plain": [
              "'201 201 '"
            ]
          },
          "metadata": {
            "tags": []
          },
          "execution_count": 106
        }
      ]
    },
    {
      "cell_type": "code",
      "metadata": {
        "id": "uUndQ_-9ybSI"
      },
      "source": [
        "# Operaciones no compatibles\n",
        "\"a\" + 10\n",
        "\"a\" / 10\n",
        "\"a\" - 10"
      ],
      "execution_count": null,
      "outputs": []
    },
    {
      "cell_type": "code",
      "metadata": {
        "colab": {
          "base_uri": "https://localhost:8080/"
        },
        "id": "S4K_mubI-sWN",
        "outputId": "92712f36-172e-4845-dcfb-f8a8c1d68918"
      },
      "source": [
        "# Podemos tomar una parte de la cadena\n",
        "cad = \"Hola, cómo estás?\"\n",
        "\n",
        "# hay que tomar en cuenta que si hacemos [:10]\n",
        "# Por la numeración, no toma el elemento 10, sino el 9\n",
        "\n",
        "# Tomamos los primeros 10 elementos\n",
        "print(\"10 primeros:\",cad[:10])\n",
        "\n",
        "# Tomamos los últimos 10 elementos\n",
        "print(\"10 últimos:\",cad[-10:])\n",
        "\n",
        "# Tomamos del 5to al 15vo elemento\n",
        "print(\"Caracteres del 5 al 15:\",cad[6:15])\n"
      ],
      "execution_count": null,
      "outputs": [
        {
          "output_type": "stream",
          "text": [
            "10 primeros: Hola, cómo\n",
            "10 últimos: ómo estás?\n",
            "Caracteres del 5 al 15: cómo está\n"
          ],
          "name": "stdout"
        }
      ]
    },
    {
      "cell_type": "markdown",
      "metadata": {
        "id": "Ylv7G88n2Co8"
      },
      "source": [
        "#### Entre variables"
      ]
    },
    {
      "cell_type": "code",
      "metadata": {
        "id": "u1Hrz4LZy5aS"
      },
      "source": [
        "variable1 = 10\n",
        "variable2 = 20\n",
        "variable3 = \"hola mundo\""
      ],
      "execution_count": null,
      "outputs": []
    },
    {
      "cell_type": "code",
      "metadata": {
        "colab": {
          "base_uri": "https://localhost:8080/"
        },
        "id": "4u38xX3iy-kH",
        "outputId": "7e43e299-f2e8-4d40-cc81-5612be2ea021"
      },
      "source": [
        "variable1 * variable2"
      ],
      "execution_count": null,
      "outputs": [
        {
          "output_type": "execute_result",
          "data": {
            "text/plain": [
              "200"
            ]
          },
          "metadata": {
            "tags": []
          },
          "execution_count": 121
        }
      ]
    },
    {
      "cell_type": "code",
      "metadata": {
        "colab": {
          "base_uri": "https://localhost:8080/"
        },
        "id": "-JKtTSQyzBCc",
        "outputId": "5aa7f527-6848-46c0-b899-9fa42226331d"
      },
      "source": [
        "# incrementamos la variable en su valor más 10\n",
        "variable1 += 10\n",
        "# Mostramos la variable\n",
        "variable1"
      ],
      "execution_count": null,
      "outputs": [
        {
          "output_type": "execute_result",
          "data": {
            "text/plain": [
              "20"
            ]
          },
          "metadata": {
            "tags": []
          },
          "execution_count": 125
        }
      ]
    },
    {
      "cell_type": "code",
      "metadata": {
        "colab": {
          "base_uri": "https://localhost:8080/"
        },
        "id": "LuXziZswzJds",
        "outputId": "bbcfae4a-519f-493b-95b5-addb879c8b88"
      },
      "source": [
        "# decrementamos la variable en su valor menos 5\n",
        "variable1 -= 5\n",
        "# Mostramos la variable\n",
        "variable1"
      ],
      "execution_count": null,
      "outputs": [
        {
          "output_type": "execute_result",
          "data": {
            "text/plain": [
              "15"
            ]
          },
          "metadata": {
            "tags": []
          },
          "execution_count": 126
        }
      ]
    },
    {
      "cell_type": "code",
      "metadata": {
        "colab": {
          "base_uri": "https://localhost:8080/",
          "height": 35
        },
        "id": "KS3wX9zVzuI8",
        "outputId": "b8532382-74aa-4ad4-9799-1fa40c97c074"
      },
      "source": [
        "# Capitalizamos la cadena\n",
        "variable3.capitalize()"
      ],
      "execution_count": null,
      "outputs": [
        {
          "output_type": "execute_result",
          "data": {
            "application/vnd.google.colaboratory.intrinsic+json": {
              "type": "string"
            },
            "text/plain": [
              "'Hola mundo'"
            ]
          },
          "metadata": {
            "tags": []
          },
          "execution_count": 132
        }
      ]
    },
    {
      "cell_type": "code",
      "metadata": {
        "colab": {
          "base_uri": "https://localhost:8080/",
          "height": 35
        },
        "id": "WoAv3Zv6z3jz",
        "outputId": "74921673-6184-4244-c397-4e1b65d85a08"
      },
      "source": [
        "# Cadena a mayúsculas\n",
        "variable3.upper()"
      ],
      "execution_count": null,
      "outputs": [
        {
          "output_type": "execute_result",
          "data": {
            "application/vnd.google.colaboratory.intrinsic+json": {
              "type": "string"
            },
            "text/plain": [
              "'HOLA MUNDO'"
            ]
          },
          "metadata": {
            "tags": []
          },
          "execution_count": 134
        }
      ]
    },
    {
      "cell_type": "code",
      "metadata": {
        "colab": {
          "base_uri": "https://localhost:8080/",
          "height": 35
        },
        "id": "PnmyF7hiz8N8",
        "outputId": "146c1b4d-444a-40a2-8329-f915d63b6b75"
      },
      "source": [
        "# Cada inicio con mayúsculas\n",
        "variable3.title()"
      ],
      "execution_count": null,
      "outputs": [
        {
          "output_type": "execute_result",
          "data": {
            "application/vnd.google.colaboratory.intrinsic+json": {
              "type": "string"
            },
            "text/plain": [
              "'Hola Mundo'"
            ]
          },
          "metadata": {
            "tags": []
          },
          "execution_count": 135
        }
      ]
    },
    {
      "cell_type": "code",
      "metadata": {
        "colab": {
          "base_uri": "https://localhost:8080/",
          "height": 35
        },
        "id": "EtQp7rQcz_Sa",
        "outputId": "ff394be9-b84b-4efb-dbab-7b3ff83d4ed5"
      },
      "source": [
        "#Reemplazando \"o\" por \"0\"\n",
        "variable3.replace(\"o\",\"0\")"
      ],
      "execution_count": null,
      "outputs": [
        {
          "output_type": "execute_result",
          "data": {
            "application/vnd.google.colaboratory.intrinsic+json": {
              "type": "string"
            },
            "text/plain": [
              "'h0la mund0'"
            ]
          },
          "metadata": {
            "tags": []
          },
          "execution_count": 136
        }
      ]
    },
    {
      "cell_type": "code",
      "metadata": {
        "colab": {
          "base_uri": "https://localhost:8080/"
        },
        "id": "Uc1yWiJP0HtF",
        "outputId": "e1402467-d6b8-477d-b5eb-3459dd02bae2"
      },
      "source": [
        "# Generando una lista a partir de cada espacio\n",
        "variable3.split()"
      ],
      "execution_count": null,
      "outputs": [
        {
          "output_type": "execute_result",
          "data": {
            "text/plain": [
              "['hola', 'mundo']"
            ]
          },
          "metadata": {
            "tags": []
          },
          "execution_count": 137
        }
      ]
    },
    {
      "cell_type": "code",
      "metadata": {
        "colab": {
          "base_uri": "https://localhost:8080/"
        },
        "id": "23bJZH6s0MN7",
        "outputId": "a9d808e3-d0a8-4af7-e41b-3fc9a5bc88fd"
      },
      "source": [
        "# Generando una lista a partir de cada o\n",
        "variable3.split(\"o\")"
      ],
      "execution_count": null,
      "outputs": [
        {
          "output_type": "execute_result",
          "data": {
            "text/plain": [
              "['h', 'la mund', '']"
            ]
          },
          "metadata": {
            "tags": []
          },
          "execution_count": 138
        }
      ]
    },
    {
      "cell_type": "code",
      "metadata": {
        "colab": {
          "base_uri": "https://localhost:8080/",
          "height": 35
        },
        "id": "dMYZw5kI0Vzo",
        "outputId": "089fa25e-0108-4047-bcc1-f6389213ee2f"
      },
      "source": [
        "# Concatenando cadenas\n",
        "\"Hola\" + \"Cómo\" + \"Estás?\""
      ],
      "execution_count": null,
      "outputs": [
        {
          "output_type": "execute_result",
          "data": {
            "application/vnd.google.colaboratory.intrinsic+json": {
              "type": "string"
            },
            "text/plain": [
              "'HolaCómoEstás?'"
            ]
          },
          "metadata": {
            "tags": []
          },
          "execution_count": 140
        }
      ]
    },
    {
      "cell_type": "code",
      "metadata": {
        "colab": {
          "base_uri": "https://localhost:8080/",
          "height": 35
        },
        "id": "vtBwDrcm0ePL",
        "outputId": "99073790-fe29-4bdd-cb86-adbcbeb7e5bb"
      },
      "source": [
        "# Concatenando cadenas en variables\n",
        "cad1 = \"Hola \"\n",
        "cad2 = \"Cómo estás?\"\n",
        "cad1 + cad2"
      ],
      "execution_count": null,
      "outputs": [
        {
          "output_type": "execute_result",
          "data": {
            "application/vnd.google.colaboratory.intrinsic+json": {
              "type": "string"
            },
            "text/plain": [
              "'Hola Cómo estás?'"
            ]
          },
          "metadata": {
            "tags": []
          },
          "execution_count": 141
        }
      ]
    },
    {
      "cell_type": "markdown",
      "metadata": {
        "id": "XWGW2ldl0uYH"
      },
      "source": [
        "## Conversión de tipos"
      ]
    },
    {
      "cell_type": "markdown",
      "metadata": {
        "id": "Aq4wdITu1hJX"
      },
      "source": [
        "#### Entero"
      ]
    },
    {
      "cell_type": "code",
      "metadata": {
        "colab": {
          "base_uri": "https://localhost:8080/"
        },
        "id": "Gh0iyG830m7m",
        "outputId": "cbc653b7-bede-485e-c17b-5b2e5ed90234"
      },
      "source": [
        "# Declaramos una variable entera\n",
        "var1 = 2\n",
        "# Verificamos su clase (tipo)\n",
        "print(var1,type(var1))"
      ],
      "execution_count": null,
      "outputs": [
        {
          "output_type": "stream",
          "text": [
            "2 <class 'int'>\n"
          ],
          "name": "stdout"
        }
      ]
    },
    {
      "cell_type": "code",
      "metadata": {
        "colab": {
          "base_uri": "https://localhost:8080/"
        },
        "id": "4Pcgw2Nm04ZK",
        "outputId": "d4df52f8-9e1d-4e27-e219-f2d3932b7a39"
      },
      "source": [
        "# Convertimos a string\n",
        "var_str_1 = str(var1)\n",
        "# Verificamos su clase (tipo)\n",
        "print(var_str_1,type(var_str_1))"
      ],
      "execution_count": null,
      "outputs": [
        {
          "output_type": "stream",
          "text": [
            "2 <class 'str'>\n"
          ],
          "name": "stdout"
        }
      ]
    },
    {
      "cell_type": "code",
      "metadata": {
        "colab": {
          "base_uri": "https://localhost:8080/"
        },
        "id": "MaM5Pqsz1GcN",
        "outputId": "5a992f56-e969-40be-820a-341d87004cd9"
      },
      "source": [
        "# Convertimos a flotante\n",
        "var_float_1 = float(var1)\n",
        "# Verificamos su clase (tipo)\n",
        "print(var_float_1,type(var_float_1))"
      ],
      "execution_count": null,
      "outputs": [
        {
          "output_type": "stream",
          "text": [
            "2.0 <class 'float'>\n"
          ],
          "name": "stdout"
        }
      ]
    },
    {
      "cell_type": "markdown",
      "metadata": {
        "id": "OM96PpQA1kk4"
      },
      "source": [
        "#### Cadena"
      ]
    },
    {
      "cell_type": "code",
      "metadata": {
        "colab": {
          "base_uri": "https://localhost:8080/"
        },
        "id": "T7fC7AOz1QJ5",
        "outputId": "6974ec92-7e91-4435-93fa-794fb312bb29"
      },
      "source": [
        "var2 = \"Hola\"\n",
        "# Verificamos su clase (tipo)\n",
        "print(var2,type(var2))"
      ],
      "execution_count": null,
      "outputs": [
        {
          "output_type": "stream",
          "text": [
            "Hola <class 'str'>\n"
          ],
          "name": "stdout"
        }
      ]
    },
    {
      "cell_type": "code",
      "metadata": {
        "colab": {
          "base_uri": "https://localhost:8080/",
          "height": 220
        },
        "id": "TpBeN2Jm1qho",
        "outputId": "c6a5466f-5ef0-4e23-ad1b-357c39a72650"
      },
      "source": [
        "# Convertimos a entero\n",
        "var_int_2 = int(var2)\n",
        "# Verificamos su clase (tipo)\n",
        "print(var_int_2,type(var_int_2))"
      ],
      "execution_count": null,
      "outputs": [
        {
          "output_type": "error",
          "ename": "ValueError",
          "evalue": "ignored",
          "traceback": [
            "\u001b[0;31m---------------------------------------------------------------------------\u001b[0m",
            "\u001b[0;31mValueError\u001b[0m                                Traceback (most recent call last)",
            "\u001b[0;32m<ipython-input-152-bb79dd7cfa36>\u001b[0m in \u001b[0;36m<module>\u001b[0;34m()\u001b[0m\n\u001b[1;32m      1\u001b[0m \u001b[0;31m# Convertimos a entero\u001b[0m\u001b[0;34m\u001b[0m\u001b[0;34m\u001b[0m\u001b[0;34m\u001b[0m\u001b[0m\n\u001b[0;32m----> 2\u001b[0;31m \u001b[0mvar_int_2\u001b[0m \u001b[0;34m=\u001b[0m \u001b[0mint\u001b[0m\u001b[0;34m(\u001b[0m\u001b[0mvar2\u001b[0m\u001b[0;34m)\u001b[0m\u001b[0;34m\u001b[0m\u001b[0;34m\u001b[0m\u001b[0m\n\u001b[0m\u001b[1;32m      3\u001b[0m \u001b[0;31m# Verificamos su clase (tipo)\u001b[0m\u001b[0;34m\u001b[0m\u001b[0;34m\u001b[0m\u001b[0;34m\u001b[0m\u001b[0m\n\u001b[1;32m      4\u001b[0m \u001b[0mprint\u001b[0m\u001b[0;34m(\u001b[0m\u001b[0mvar_int_2\u001b[0m\u001b[0;34m,\u001b[0m\u001b[0mtype\u001b[0m\u001b[0;34m(\u001b[0m\u001b[0mvar_int_2\u001b[0m\u001b[0;34m)\u001b[0m\u001b[0;34m)\u001b[0m\u001b[0;34m\u001b[0m\u001b[0;34m\u001b[0m\u001b[0m\n",
            "\u001b[0;31mValueError\u001b[0m: invalid literal for int() with base 10: 'Hola'"
          ]
        }
      ]
    },
    {
      "cell_type": "code",
      "metadata": {
        "colab": {
          "base_uri": "https://localhost:8080/",
          "height": 220
        },
        "id": "xcErR1o0126L",
        "outputId": "4873e10d-e202-4ac6-ffa9-f58c968019f9"
      },
      "source": [
        "# Convertimos a entero\n",
        "var_float_2 = float(var2)\n",
        "# Verificamos su clase (tipo)\n",
        "print(var_float_2,type(var_float_2))"
      ],
      "execution_count": null,
      "outputs": [
        {
          "output_type": "error",
          "ename": "ValueError",
          "evalue": "ignored",
          "traceback": [
            "\u001b[0;31m---------------------------------------------------------------------------\u001b[0m",
            "\u001b[0;31mValueError\u001b[0m                                Traceback (most recent call last)",
            "\u001b[0;32m<ipython-input-153-343b678b1fca>\u001b[0m in \u001b[0;36m<module>\u001b[0;34m()\u001b[0m\n\u001b[1;32m      1\u001b[0m \u001b[0;31m# Convertimos a entero\u001b[0m\u001b[0;34m\u001b[0m\u001b[0;34m\u001b[0m\u001b[0;34m\u001b[0m\u001b[0m\n\u001b[0;32m----> 2\u001b[0;31m \u001b[0mvar_float_2\u001b[0m \u001b[0;34m=\u001b[0m \u001b[0mfloat\u001b[0m\u001b[0;34m(\u001b[0m\u001b[0mvar2\u001b[0m\u001b[0;34m)\u001b[0m\u001b[0;34m\u001b[0m\u001b[0;34m\u001b[0m\u001b[0m\n\u001b[0m\u001b[1;32m      3\u001b[0m \u001b[0;31m# Verificamos su clase (tipo)\u001b[0m\u001b[0;34m\u001b[0m\u001b[0;34m\u001b[0m\u001b[0;34m\u001b[0m\u001b[0m\n\u001b[1;32m      4\u001b[0m \u001b[0mprint\u001b[0m\u001b[0;34m(\u001b[0m\u001b[0mvar_float_2\u001b[0m\u001b[0;34m,\u001b[0m\u001b[0mtype\u001b[0m\u001b[0;34m(\u001b[0m\u001b[0mvar_float_2\u001b[0m\u001b[0;34m)\u001b[0m\u001b[0;34m)\u001b[0m\u001b[0;34m\u001b[0m\u001b[0;34m\u001b[0m\u001b[0m\n",
            "\u001b[0;31mValueError\u001b[0m: could not convert string to float: 'Hola'"
          ]
        }
      ]
    },
    {
      "cell_type": "markdown",
      "metadata": {
        "id": "Ik5vBD3T_sw_"
      },
      "source": [
        "## "
      ]
    },
    {
      "cell_type": "code",
      "metadata": {
        "id": "vmQLujMy_rhs"
      },
      "source": [
        ""
      ],
      "execution_count": null,
      "outputs": []
    },
    {
      "cell_type": "markdown",
      "metadata": {
        "id": "HOa61NhrwlvP"
      },
      "source": [
        "## Listas"
      ]
    },
    {
      "cell_type": "code",
      "metadata": {
        "colab": {
          "base_uri": "https://localhost:8080/"
        },
        "id": "-ujVYRf2wYEG",
        "outputId": "d81bfeba-5ec7-40bf-edda-5de77bdf8d16"
      },
      "source": [
        "# Listas\n",
        "# Conjunto de elementos \n",
        "lista = [\"2\",2,2.0]\n",
        "lista"
      ],
      "execution_count": null,
      "outputs": [
        {
          "output_type": "execute_result",
          "data": {
            "text/plain": [
              "['2', 2, 2.0]"
            ]
          },
          "metadata": {
            "tags": []
          },
          "execution_count": 90
        }
      ]
    },
    {
      "cell_type": "code",
      "metadata": {
        "colab": {
          "base_uri": "https://localhost:8080/",
          "height": 35
        },
        "id": "HIREJC71woKg",
        "outputId": "4ed944a2-742c-4907-b468-e5eedcbb906b"
      },
      "source": [
        "# Accediendo a un elemento en particular\n",
        "lista[0]"
      ],
      "execution_count": null,
      "outputs": [
        {
          "output_type": "execute_result",
          "data": {
            "application/vnd.google.colaboratory.intrinsic+json": {
              "type": "string"
            },
            "text/plain": [
              "'2'"
            ]
          },
          "metadata": {
            "tags": []
          },
          "execution_count": 93
        }
      ]
    },
    {
      "cell_type": "code",
      "metadata": {
        "colab": {
          "base_uri": "https://localhost:8080/"
        },
        "id": "239wrmbMwu2x",
        "outputId": "83a0875e-487f-424a-c1c8-8b0352b174cf"
      },
      "source": [
        "# Editando 1 elemento en particular\n",
        "print(\"Lista\",lista)\n",
        "lista[0] = \"Cambio\"\n",
        "print(\"Nueva Lista:\",lista)"
      ],
      "execution_count": null,
      "outputs": [
        {
          "output_type": "stream",
          "text": [
            "Lista ['2', 2, 2.0]\n",
            "Nueva Lista: ['Cambio', 2, 2.0]\n"
          ],
          "name": "stdout"
        }
      ]
    },
    {
      "cell_type": "code",
      "metadata": {
        "colab": {
          "base_uri": "https://localhost:8080/"
        },
        "id": "SxpWi8Zsw5hV",
        "outputId": "7f8b4b69-255c-4f92-aa00-400fbb10a7ea"
      },
      "source": [
        "# Recorriendo cada elemento de la lista\n",
        "for elemento in lista:\n",
        "  print(elemento)"
      ],
      "execution_count": null,
      "outputs": [
        {
          "output_type": "stream",
          "text": [
            "Cambio\n",
            "2\n",
            "2.0\n"
          ],
          "name": "stdout"
        }
      ]
    },
    {
      "cell_type": "code",
      "metadata": {
        "colab": {
          "base_uri": "https://localhost:8080/"
        },
        "id": "Z8gI2SDVw99e",
        "outputId": "5a2134e7-8517-4d77-c5d6-b1b641268db3"
      },
      "source": [
        "# Recorriendo y enumerando cada elemento de la lista\n",
        "for i,elemento in enumerate(lista):\n",
        "  #print(i+1,\".- \",elemento)\n",
        "  print(f\"{i+1}.- {elemento}\")"
      ],
      "execution_count": null,
      "outputs": [
        {
          "output_type": "stream",
          "text": [
            "1.- Cambio\n",
            "2.- 2\n",
            "3.- 2.0\n"
          ],
          "name": "stdout"
        }
      ]
    },
    {
      "cell_type": "code",
      "metadata": {
        "colab": {
          "base_uri": "https://localhost:8080/"
        },
        "id": "HL7PyK_kDNUU",
        "outputId": "786224e2-ad34-420a-afb4-64a5d786ea57"
      },
      "source": [
        "# Agregando elemento a una lista\n",
        "print(\"Lista: \",lista)\n",
        "lista.append(\"new\")\n",
        "print(\"nueva lista: \",lista)"
      ],
      "execution_count": null,
      "outputs": [
        {
          "output_type": "stream",
          "text": [
            "Lista:  ['Cambio', 2, 2.0]\n",
            "nueva lista:  ['Cambio', 2, 2.0, 'new']\n"
          ],
          "name": "stdout"
        }
      ]
    },
    {
      "cell_type": "markdown",
      "metadata": {
        "id": "sOiFn3bA2OL9"
      },
      "source": [
        "## Funciones\n",
        "\n",
        "La sintaxis es:\n",
        "\n",
        "`def` nombre (`variables`):\n",
        "\n",
        "  `Proceso interno`"
      ]
    },
    {
      "cell_type": "code",
      "metadata": {
        "id": "sArtyocj2ScC"
      },
      "source": [
        "def mi_primer_funcion():\n",
        "  '''\n",
        "  @Autor: Jonathan Martiñón\n",
        "\n",
        "  @Descripción:   Función ejemplo\n",
        "\n",
        "  @Parámetros:    None\n",
        "\n",
        "  @Devuelve:      None\n",
        "\n",
        "  @Ejemplo:\n",
        "\n",
        "  mi_primer_funcion()\n",
        "  >>> 'Esta es mi primer función'\n",
        "  '''\n",
        "\n",
        "  print(\"Esta es mi primer función\")"
      ],
      "execution_count": null,
      "outputs": []
    },
    {
      "cell_type": "code",
      "metadata": {
        "colab": {
          "base_uri": "https://localhost:8080/"
        },
        "id": "EuuO6PV-2xZZ",
        "outputId": "381735db-797e-41f9-c9a6-1fc4d49a5c7e"
      },
      "source": [
        "mi_primer_funcion()"
      ],
      "execution_count": null,
      "outputs": [
        {
          "output_type": "stream",
          "text": [
            "Esta es mi primer función\n"
          ],
          "name": "stdout"
        }
      ]
    },
    {
      "cell_type": "code",
      "metadata": {
        "id": "NrXKG-YB2y5N"
      },
      "source": [
        "def cuadrado(x):\n",
        "  '''\n",
        "  @Autor: Jonathan Martiñón\n",
        "\n",
        "  @Descripción:   Función ejemplo para calcular cuadrados\n",
        "\n",
        "  @Parámetros:    \n",
        "\n",
        "  x               Número a calcular su cuadrado         INT / FLOAT\n",
        "\n",
        "  @Devuelve:      None\n",
        "\n",
        "  @Ejemplo:\n",
        "\n",
        "  x = 2\n",
        "  cuadrado(x)\n",
        "  >>> El cuadrado de 2 es 4 \n",
        "\n",
        "  x = 8\n",
        "  cuadrado(x)\n",
        "  >>> El cuadrado de 8 es 64 \n",
        "  '''\n",
        "\n",
        "  print(f\"El cuadrado de {x} es {x*x}\")\n",
        "  #print(f\"El cuadrado de {x} es {x**2}\")"
      ],
      "execution_count": null,
      "outputs": []
    },
    {
      "cell_type": "code",
      "metadata": {
        "colab": {
          "base_uri": "https://localhost:8080/"
        },
        "id": "0Vb7_BwG3NUB",
        "outputId": "6707d69d-38ce-4181-eaca-226168aae85f"
      },
      "source": [
        "x = 2\n",
        "cuadrado(x)"
      ],
      "execution_count": null,
      "outputs": [
        {
          "output_type": "stream",
          "text": [
            "El cuadrado de 2 es 4\n"
          ],
          "name": "stdout"
        }
      ]
    },
    {
      "cell_type": "code",
      "metadata": {
        "id": "WPKMwyPy3Xco"
      },
      "source": [
        "def cuadrado_con_retorno(x):\n",
        "  '''\n",
        "  @Autor: Jonathan Martiñón\n",
        "\n",
        "  @Descripción:   Función ejemplo para calcular cuadrados con retorno\n",
        "\n",
        "  @Parámetros:    \n",
        "\n",
        "  x               Número a calcular su cuadrado         INT / FLOAT\n",
        "\n",
        "  @Devuelve:\n",
        "\n",
        "  cuad            Cuadrado de x\n",
        "\n",
        "  @Ejemplo:\n",
        "\n",
        "  x = 2\n",
        "  cuadrado(x)\n",
        "  >>> 4\n",
        "\n",
        "  x = 8\n",
        "  cuadrado(x)\n",
        "  >>> 64\n",
        "  '''\n",
        "\n",
        "  cuad = x ** 2\n",
        "  return cuad"
      ],
      "execution_count": null,
      "outputs": []
    },
    {
      "cell_type": "code",
      "metadata": {
        "colab": {
          "base_uri": "https://localhost:8080/"
        },
        "id": "RQ_41V-w3j5O",
        "outputId": "da6f327e-2c38-41f2-aa35-7134b908183f"
      },
      "source": [
        "x = 2\n",
        "cuadrado_con_retorno(x)"
      ],
      "execution_count": null,
      "outputs": [
        {
          "output_type": "execute_result",
          "data": {
            "text/plain": [
              "4"
            ]
          },
          "metadata": {
            "tags": []
          },
          "execution_count": 160
        }
      ]
    },
    {
      "cell_type": "code",
      "metadata": {
        "colab": {
          "base_uri": "https://localhost:8080/"
        },
        "id": "fRZZBhNh3oP1",
        "outputId": "b9c17c9c-64fd-4f1f-b3a1-bbc8f8a29a05"
      },
      "source": [
        "auxiliar = cuadrado_con_retorno(x)\n",
        "print(auxiliar)"
      ],
      "execution_count": null,
      "outputs": [
        {
          "output_type": "stream",
          "text": [
            "4\n"
          ],
          "name": "stdout"
        }
      ]
    },
    {
      "cell_type": "markdown",
      "metadata": {
        "id": "632SpVpyAQ4r"
      },
      "source": [
        "### FOR"
      ]
    },
    {
      "cell_type": "code",
      "metadata": {
        "colab": {
          "base_uri": "https://localhost:8080/"
        },
        "id": "5RRUoAXRAXXB",
        "outputId": "925f0b1d-23c9-4887-cdfd-9a3fddcec0a8"
      },
      "source": [
        "# De 0 a 5\n",
        "for i in range(5):\n",
        "  print(i)"
      ],
      "execution_count": null,
      "outputs": [
        {
          "output_type": "stream",
          "text": [
            "0\n",
            "1\n",
            "2\n",
            "3\n",
            "4\n"
          ],
          "name": "stdout"
        }
      ]
    },
    {
      "cell_type": "code",
      "metadata": {
        "colab": {
          "base_uri": "https://localhost:8080/"
        },
        "id": "GTpc2EWAAc8w",
        "outputId": "98821322-614a-4fab-e5f3-85337905697a"
      },
      "source": [
        "# De 1 a 5 con saltos de 2\n",
        "for i in range(1,5,2):\n",
        "  print(i)"
      ],
      "execution_count": null,
      "outputs": [
        {
          "output_type": "stream",
          "text": [
            "1\n",
            "3\n"
          ],
          "name": "stdout"
        }
      ]
    },
    {
      "cell_type": "code",
      "metadata": {
        "colab": {
          "base_uri": "https://localhost:8080/"
        },
        "id": "ivGlkbr8Ajqs",
        "outputId": "2e71c5b7-8937-4490-af53-24f9fd63e177"
      },
      "source": [
        "# De 0 a -10 con saltos negativos\n",
        "for i in range(0,-10,-2):\n",
        "  print(i)"
      ],
      "execution_count": null,
      "outputs": [
        {
          "output_type": "stream",
          "text": [
            "0\n",
            "-2\n",
            "-4\n",
            "-6\n",
            "-8\n"
          ],
          "name": "stdout"
        }
      ]
    },
    {
      "cell_type": "code",
      "metadata": {
        "colab": {
          "base_uri": "https://localhost:8080/"
        },
        "id": "imIUTM-HArUz",
        "outputId": "4b3a1f37-492c-4de5-e1bf-0418ad060646"
      },
      "source": [
        "for niño in [\"Tomás\",\"Jaime\",\"Arthur\",\"Paco\"]:\n",
        "  print(niño)"
      ],
      "execution_count": null,
      "outputs": [
        {
          "output_type": "stream",
          "text": [
            "Tomás\n",
            "Jaime\n",
            "Arthur\n",
            "Paco\n"
          ],
          "name": "stdout"
        }
      ]
    },
    {
      "cell_type": "markdown",
      "metadata": {
        "id": "fhwd22HlAS5X"
      },
      "source": [
        "### IF"
      ]
    },
    {
      "cell_type": "code",
      "metadata": {
        "colab": {
          "base_uri": "https://localhost:8080/"
        },
        "id": "ub1v3srqA1t7",
        "outputId": "a6b5ebcb-f33e-4d8a-aa63-0b45c65f858e"
      },
      "source": [
        "# Igual\n",
        "if 2 == \"2\":\n",
        "  print(\"Es igual\")\n",
        "else:\n",
        "  print(\"Son distintos\")"
      ],
      "execution_count": null,
      "outputs": [
        {
          "output_type": "stream",
          "text": [
            "Son distintos\n"
          ],
          "name": "stdout"
        }
      ]
    },
    {
      "cell_type": "code",
      "metadata": {
        "colab": {
          "base_uri": "https://localhost:8080/"
        },
        "id": "LsafGsDUA8Ha",
        "outputId": "1ef5ebb5-8cd3-49b4-9a11-979f1deabddc"
      },
      "source": [
        "# Igual\n",
        "if 2 == 2:\n",
        "  print(\"Es igual\")\n",
        "else:\n",
        "  print(\"Son distintos\")"
      ],
      "execution_count": null,
      "outputs": [
        {
          "output_type": "stream",
          "text": [
            "Es igual\n"
          ],
          "name": "stdout"
        }
      ]
    },
    {
      "cell_type": "code",
      "metadata": {
        "colab": {
          "base_uri": "https://localhost:8080/"
        },
        "id": "Z5XVoXtjBADh",
        "outputId": "6ed1fec4-da3f-474b-c027-c7ed68860a09"
      },
      "source": [
        "# Igual\n",
        "if \"Hola, mundo\" == \"hola, mundo\":\n",
        "  print(\"Es igual\")\n",
        "else:\n",
        "  print(\"Son distintos\")"
      ],
      "execution_count": null,
      "outputs": [
        {
          "output_type": "stream",
          "text": [
            "Son distintos\n"
          ],
          "name": "stdout"
        }
      ]
    },
    {
      "cell_type": "code",
      "metadata": {
        "colab": {
          "base_uri": "https://localhost:8080/"
        },
        "id": "MFX5Wa3dBFn-",
        "outputId": "58d34aec-4fb4-4eca-ddfa-3bf6d77a278d"
      },
      "source": [
        "# Dos comparaciones\n",
        "if 5 < 10 and  5>1:\n",
        "  print(\"Se cumple\")\n",
        "else:\n",
        "  print(\"No se cumple\")"
      ],
      "execution_count": null,
      "outputs": [
        {
          "output_type": "stream",
          "text": [
            "Se cumple\n"
          ],
          "name": "stdout"
        }
      ]
    },
    {
      "cell_type": "code",
      "metadata": {
        "colab": {
          "base_uri": "https://localhost:8080/"
        },
        "id": "O0O9MO7XBPG_",
        "outputId": "758255fe-5261-4686-bf62-a4c45b4e59d9"
      },
      "source": [
        "# Dos comparaciones\n",
        "if 10 <= 10 or  5>10:\n",
        "  # Se cumple, puesto que basta sólo 1 verdad\n",
        "  print(\"Se cumple\")\n",
        "else:\n",
        "  print(\"No se cumple\")"
      ],
      "execution_count": null,
      "outputs": [
        {
          "output_type": "stream",
          "text": [
            "Se cumple\n"
          ],
          "name": "stdout"
        }
      ]
    },
    {
      "cell_type": "code",
      "metadata": {
        "colab": {
          "base_uri": "https://localhost:8080/"
        },
        "id": "a0t_PDADBXaM",
        "outputId": "769ba10a-3157-4d46-bf92-3cc87e5d0e60"
      },
      "source": [
        "# distinto\n",
        "if \"Juan\" != \"Pepe\":\n",
        "  print(\"Es distinto\")\n",
        "else:\n",
        "  print(\"No es distinto\")"
      ],
      "execution_count": null,
      "outputs": [
        {
          "output_type": "stream",
          "text": [
            "Es distinto\n"
          ],
          "name": "stdout"
        }
      ]
    },
    {
      "cell_type": "code",
      "metadata": {
        "colab": {
          "base_uri": "https://localhost:8080/"
        },
        "id": "pccFyy4hBdT_",
        "outputId": "fea50278-0381-4a33-e7a0-45a4bcfdc44e"
      },
      "source": [
        "# incluido en lista\n",
        "if 5 in [\"1\",\"2\",\"5\"]:\n",
        "  print(\"Está en la lista\")\n",
        "else:\n",
        "  print(\"No está en la lista\")"
      ],
      "execution_count": null,
      "outputs": [
        {
          "output_type": "stream",
          "text": [
            "No está en la lista\n"
          ],
          "name": "stdout"
        }
      ]
    },
    {
      "cell_type": "code",
      "metadata": {
        "colab": {
          "base_uri": "https://localhost:8080/"
        },
        "id": "o6KcCi7NBoH5",
        "outputId": "cf702fcb-3f3d-4a7d-9262-77382aca1b59"
      },
      "source": [
        "# incluido en lista\n",
        "if 5 in [\"1\",\"2\",5]:\n",
        "  print(\"Está en la lista\")\n",
        "else:\n",
        "  print(\"No está en la lista\")"
      ],
      "execution_count": null,
      "outputs": [
        {
          "output_type": "stream",
          "text": [
            "Está en la lista\n"
          ],
          "name": "stdout"
        }
      ]
    },
    {
      "cell_type": "markdown",
      "metadata": {
        "id": "fyTFBWr1AT1t"
      },
      "source": [
        "### While"
      ]
    },
    {
      "cell_type": "code",
      "metadata": {
        "colab": {
          "base_uri": "https://localhost:8080/"
        },
        "id": "lFZRprpcBtDA",
        "outputId": "ca83f450-cb8c-4994-a5c1-67d16c574cc8"
      },
      "source": [
        "# Ciclo 'infinito'\n",
        "k = 0\n",
        "while True:\n",
        "  print(f\"iteración: {k+1}\")\n",
        "  k+=1\n",
        "\n",
        "  # Nuestro freno\n",
        "  if k == 10:\n",
        "    # Rompe el ciclo, sea while o for\n",
        "    break"
      ],
      "execution_count": null,
      "outputs": [
        {
          "output_type": "stream",
          "text": [
            "iteración: 1\n",
            "iteración: 2\n",
            "iteración: 3\n",
            "iteración: 4\n",
            "iteración: 5\n",
            "iteración: 6\n",
            "iteración: 7\n",
            "iteración: 8\n",
            "iteración: 9\n",
            "iteración: 10\n"
          ],
          "name": "stdout"
        }
      ]
    },
    {
      "cell_type": "code",
      "metadata": {
        "colab": {
          "base_uri": "https://localhost:8080/"
        },
        "id": "9-mrmjQpB9NA",
        "outputId": "bc62976f-b15a-4571-b10f-bbb375e920bc"
      },
      "source": [
        "aux = 5\n",
        "# Ciclo  incremental\n",
        "while aux < 10:\n",
        "  print(aux)\n",
        "  aux+=1"
      ],
      "execution_count": null,
      "outputs": [
        {
          "output_type": "stream",
          "text": [
            "5\n",
            "6\n",
            "7\n",
            "8\n",
            "9\n"
          ],
          "name": "stdout"
        }
      ]
    },
    {
      "cell_type": "markdown",
      "metadata": {
        "id": "q9SKD2cw_kCB"
      },
      "source": [
        "## Estructuras"
      ]
    },
    {
      "cell_type": "markdown",
      "metadata": {
        "id": "rw0WWZOd3wgu"
      },
      "source": [
        "## Ejercicios:"
      ]
    },
    {
      "cell_type": "markdown",
      "metadata": {
        "id": "154jQYLm8aPr"
      },
      "source": [
        "\n",
        "\n",
        "*   Genera una Función que reciba 3 elementos:\n",
        "\n",
        "     1. Nombre de la tabla\n",
        "     2. Columnas\n",
        "     3. Valores\n",
        "\n",
        "    Y devuelva una instrucción INSERT INTO. Por ejemplo:\n",
        "\n",
        "    Funcion(variable1, variable2, variable3)\n",
        "    \n",
        "    \\>>>\"INSERT INTO empleados (nombre,edad,genero) VALUES ('Javier Gómez', 35, 'M');\"\n",
        "\n",
        "\n",
        "\n",
        "*   Dado el siguiente texto: \n",
        "\n",
        "    \"Mario compró: 6 manzanas, 4 peras, 2 naranjas, 1 limón\"\n",
        "\n",
        "    1. Extrae en una lista las frutas y cantidades que compró Mario\n",
        "    \n",
        "    \\>>> [\"6 manzanas\", \"4 peras\", \"2 naranjas\", \"1 limón\"]\n",
        "\n",
        "    2. **OPCIONAL**: Divide la lista en 2, una de strings y otra de enteros:\n",
        "\n",
        "    \\>>> [\"manzanas\", \"peras\", \"naranjas\", \"limón\"]\n",
        "\n",
        "    \\>>> [6, 4, 2, 1]\n",
        "\n",
        "\n",
        "\n"
      ]
    },
    {
      "cell_type": "markdown",
      "metadata": {
        "id": "Tl6JJY7fEH2Z"
      },
      "source": [
        "---\n",
        "\n",
        "# XLRD\n",
        "\n",
        "---"
      ]
    },
    {
      "cell_type": "markdown",
      "metadata": {
        "id": "6VdRv9rBX2Zq"
      },
      "source": [
        "# Librerías"
      ]
    },
    {
      "cell_type": "code",
      "metadata": {
        "id": "UKN2o5QCgB2F"
      },
      "source": [
        "try:\n",
        "  import xlrd\n",
        "except:\n",
        "  !pip install xlrd\n",
        "  import xlrd"
      ],
      "execution_count": null,
      "outputs": []
    },
    {
      "cell_type": "markdown",
      "metadata": {
        "id": "-FWcB6fbX5aA"
      },
      "source": [
        "# Funciones"
      ]
    },
    {
      "cell_type": "code",
      "metadata": {
        "id": "ZtzlahRpX_-Y"
      },
      "source": [
        "def cuenta_lista(lista):\n",
        "  '''\n",
        "  @Autor: Jonathan Martiñón\n",
        "\n",
        "  @Descripción:   Función encargada de mostrar los elementos\n",
        "                  de una lista, por números.\n",
        "  @Parámetros:\n",
        "\n",
        "  lista           lista de elementos a enumerar       LIST\n",
        "\n",
        "  @Devuelve:      None\n",
        "\n",
        "  @Ejemplo:\n",
        "\n",
        "  lista = [\"Manzana\", \"Pera\", \"Jícama\"]\n",
        "  cuenta_lista(lista)\n",
        "  >>> 1.- Manzana\n",
        "  >>> 2.- Pera\n",
        "  >>> 3.- Jícama\n",
        "  '''\n",
        "\n",
        "  # Recorremos cada elemento en la lista\n",
        "  # Numerándolos al mismo tiempo\n",
        "  for i,elemento in enumerate(lista):\n",
        "\n",
        "    # Dado que la numeración inicia en 0\n",
        "    # Se sumará 1, para iniciar en 1\n",
        "    print(f\"{i+1}.- {elemento}\")"
      ],
      "execution_count": null,
      "outputs": []
    },
    {
      "cell_type": "markdown",
      "metadata": {
        "id": "ZyMFsppSX4HZ"
      },
      "source": [
        "# Ejemplos"
      ]
    },
    {
      "cell_type": "markdown",
      "metadata": {
        "id": "7qStM526cGZU"
      },
      "source": [
        "## Lectura de datos"
      ]
    },
    {
      "cell_type": "code",
      "metadata": {
        "id": "PrD8NbTNgNUe",
        "colab": {
          "base_uri": "https://localhost:8080/"
        },
        "outputId": "b1ef3c7a-871e-4c6f-e727-0ef32e632891"
      },
      "source": [
        "documento = xlrd.open_workbook(\"./Documento interactivo para taller.xlsx\")\n",
        "documento"
      ],
      "execution_count": null,
      "outputs": [
        {
          "output_type": "execute_result",
          "data": {
            "text/plain": [
              "<xlrd.book.Book at 0x7f6e2c459450>"
            ]
          },
          "metadata": {
            "tags": []
          },
          "execution_count": 35
        }
      ]
    },
    {
      "cell_type": "markdown",
      "metadata": {
        "id": "UUDtJneAgWxz"
      },
      "source": [
        "## Análisis de hojas"
      ]
    },
    {
      "cell_type": "code",
      "metadata": {
        "colab": {
          "base_uri": "https://localhost:8080/"
        },
        "id": "0g42fqztiim2",
        "outputId": "61c070e9-d7f7-450e-993a-b113d5db9819"
      },
      "source": [
        "# Contamos las hojas en el documento\n",
        "print(f\"Contamos con {documento.nsheets} hojas\")"
      ],
      "execution_count": null,
      "outputs": [
        {
          "output_type": "stream",
          "text": [
            "Contamos con 4 hojas\n"
          ],
          "name": "stdout"
        }
      ]
    },
    {
      "cell_type": "code",
      "metadata": {
        "colab": {
          "base_uri": "https://localhost:8080/"
        },
        "id": "1uXb5KEpgSAR",
        "outputId": "60310bf6-de2b-486d-9c0d-02a82b2c2683"
      },
      "source": [
        "# Mostramos los nombres de las hojas\n",
        "documento.sheet_names()"
      ],
      "execution_count": null,
      "outputs": [
        {
          "output_type": "execute_result",
          "data": {
            "text/plain": [
              "['Calificaciones', 'Alumnos', 'Materias', 'Profesores']"
            ]
          },
          "metadata": {
            "tags": []
          },
          "execution_count": 37
        }
      ]
    },
    {
      "cell_type": "code",
      "metadata": {
        "colab": {
          "base_uri": "https://localhost:8080/"
        },
        "id": "QWY7OGEai5Ux",
        "outputId": "f5f8e893-c53f-422b-b796-3271f0960374"
      },
      "source": [
        "# Usando una función\n",
        "cuenta_lista(documento.sheet_names())"
      ],
      "execution_count": null,
      "outputs": [
        {
          "output_type": "stream",
          "text": [
            "1.- Calificaciones\n",
            "2.- Alumnos\n",
            "3.- Materias\n",
            "4.- Profesores\n"
          ],
          "name": "stdout"
        }
      ]
    },
    {
      "cell_type": "markdown",
      "metadata": {
        "id": "ZBmXEPSGgjdR"
      },
      "source": [
        "### Analizando una hoja"
      ]
    },
    {
      "cell_type": "code",
      "metadata": {
        "colab": {
          "base_uri": "https://localhost:8080/",
          "height": 35
        },
        "id": "GD1aVo3OghdI",
        "outputId": "e2d54602-cd2f-49cd-f278-ecc199c35d07"
      },
      "source": [
        "documento.sheet_names()[0]"
      ],
      "execution_count": null,
      "outputs": [
        {
          "output_type": "execute_result",
          "data": {
            "application/vnd.google.colaboratory.intrinsic+json": {
              "type": "string"
            },
            "text/plain": [
              "'Calificaciones'"
            ]
          },
          "metadata": {
            "tags": []
          },
          "execution_count": 39
        }
      ]
    },
    {
      "cell_type": "code",
      "metadata": {
        "id": "XNKWXi_KiJIk"
      },
      "source": [
        "# Obteniendo una hoja por su nombre\n",
        "hoja1 = documento.sheet_by_name(\"Calificaciones\")"
      ],
      "execution_count": null,
      "outputs": []
    },
    {
      "cell_type": "code",
      "metadata": {
        "id": "IH-V-AZZgtU-"
      },
      "source": [
        "# Obteniendo una hoja por su índice\n",
        "hoja_1_2 = documento.sheet_by_index(0)"
      ],
      "execution_count": null,
      "outputs": []
    },
    {
      "cell_type": "code",
      "metadata": {
        "colab": {
          "base_uri": "https://localhost:8080/"
        },
        "id": "Z_DBjV48iQiK",
        "outputId": "1b214be5-7c19-4f4c-aefb-c973d58939d5"
      },
      "source": [
        "#Renglones y columnas en la hoja\n",
        "print(f\"Hoja 1\\nNombre: {hoja1.name}\\nRenglones: {hoja1.nrows}\\nColumnas: {hoja1.ncols}\")"
      ],
      "execution_count": null,
      "outputs": [
        {
          "output_type": "stream",
          "text": [
            "Hoja 1\n",
            "Nombre: Calificaciones\n",
            "Renglones: 21\n",
            "Columnas: 7\n"
          ],
          "name": "stdout"
        }
      ]
    },
    {
      "cell_type": "code",
      "metadata": {
        "colab": {
          "base_uri": "https://localhost:8080/"
        },
        "id": "PQfeQKtW1Jto",
        "outputId": "d0d6252f-dc95-41f4-85f6-bf16a6a465a6"
      },
      "source": [
        "#Renglones y columnas en la hoja\n",
        "print(f\"Hoja 1\\nNombre: {hoja_1_2.name}\\nRenglones: {hoja_1_2.nrows}\\nColumnas: {hoja_1_2.ncols}\")"
      ],
      "execution_count": null,
      "outputs": [
        {
          "output_type": "stream",
          "text": [
            "Hoja 1\n",
            "Nombre: Calificaciones\n",
            "Renglones: 21\n",
            "Columnas: 7\n"
          ],
          "name": "stdout"
        }
      ]
    },
    {
      "cell_type": "code",
      "metadata": {
        "colab": {
          "base_uri": "https://localhost:8080/"
        },
        "id": "wT8uKY2Yytdz",
        "outputId": "d8c48232-ee48-422e-ff9a-a93f6c4aca7e"
      },
      "source": [
        "# Análisis por renglón\n",
        "hoja1.row(0)"
      ],
      "execution_count": null,
      "outputs": [
        {
          "output_type": "execute_result",
          "data": {
            "text/plain": [
              "[text:'Documento que servirá como guía para el taller',\n",
              " empty:'',\n",
              " empty:'',\n",
              " empty:'',\n",
              " empty:'',\n",
              " empty:'',\n",
              " empty:'']"
            ]
          },
          "metadata": {
            "tags": []
          },
          "execution_count": 44
        }
      ]
    },
    {
      "cell_type": "code",
      "metadata": {
        "colab": {
          "base_uri": "https://localhost:8080/"
        },
        "id": "38T5KmL6-zMN",
        "outputId": "b75b21d4-9028-41b8-ea3b-eefc57312bbd"
      },
      "source": [
        "# Análisis por renglón\n",
        "hoja1.row(1)"
      ],
      "execution_count": null,
      "outputs": [
        {
          "output_type": "execute_result",
          "data": {
            "text/plain": [
              "[text:'Por: Jonathan Martiñón',\n",
              " empty:'',\n",
              " empty:'',\n",
              " empty:'',\n",
              " empty:'',\n",
              " empty:'',\n",
              " empty:'']"
            ]
          },
          "metadata": {
            "tags": []
          },
          "execution_count": 45
        }
      ]
    },
    {
      "cell_type": "code",
      "metadata": {
        "colab": {
          "base_uri": "https://localhost:8080/"
        },
        "id": "RC6_odlW-02X",
        "outputId": "1b7dbc88-01ab-4b10-a5c6-e480f8e384ff"
      },
      "source": [
        "# Análisis por renglón\n",
        "hoja1.row(2)"
      ],
      "execution_count": null,
      "outputs": [
        {
          "output_type": "execute_result",
          "data": {
            "text/plain": [
              "[text:'Se considera en Final a todo alumno con calificación menor a 8',\n",
              " empty:'',\n",
              " empty:'',\n",
              " empty:'',\n",
              " empty:'',\n",
              " empty:'',\n",
              " empty:'']"
            ]
          },
          "metadata": {
            "tags": []
          },
          "execution_count": 46
        }
      ]
    },
    {
      "cell_type": "code",
      "metadata": {
        "colab": {
          "base_uri": "https://localhost:8080/"
        },
        "id": "Tv0Bj0WQjvtT",
        "outputId": "8b713a13-a535-4b0c-9022-88fa4530d100"
      },
      "source": [
        "# Análisis por renglón\n",
        "hoja1.row(3)"
      ],
      "execution_count": null,
      "outputs": [
        {
          "output_type": "execute_result",
          "data": {
            "text/plain": [
              "[text:'#',\n",
              " text:'Id Alumno',\n",
              " text:'Id Materia',\n",
              " text:'Id Profesor',\n",
              " text:'Calificación',\n",
              " text:'Estado',\n",
              " text:'Fecha Registro']"
            ]
          },
          "metadata": {
            "tags": []
          },
          "execution_count": 47
        }
      ]
    },
    {
      "cell_type": "code",
      "metadata": {
        "colab": {
          "base_uri": "https://localhost:8080/"
        },
        "id": "yBi_lbmQjy0c",
        "outputId": "c7a77569-f066-41dc-e1dc-9ca48d335e16"
      },
      "source": [
        "# Análisis por renglón\n",
        "hoja1.row(4)"
      ],
      "execution_count": null,
      "outputs": [
        {
          "output_type": "execute_result",
          "data": {
            "text/plain": [
              "[number:1.0,\n",
              " number:10.0,\n",
              " number:2.0,\n",
              " number:2.0,\n",
              " number:6.0,\n",
              " text:'Reprobado',\n",
              " xldate:44412.0]"
            ]
          },
          "metadata": {
            "tags": []
          },
          "execution_count": 48
        }
      ]
    },
    {
      "cell_type": "code",
      "metadata": {
        "colab": {
          "base_uri": "https://localhost:8080/"
        },
        "id": "JG0LEn6SyrhR",
        "outputId": "10ec82c0-c81b-4a92-97a2-41c2594df55a"
      },
      "source": [
        "# Diccionario para columnas\n",
        "columnas_dict = {0:\"A\",1:\"B\",2:\"C\",3:\"D\",4:\"E\",5:\"F\",\n",
        "                 6:\"G\",7:\"H\",8:\"I\",9:\"J\",10:\"K\",11:\"L\",\n",
        "                 12:\"M\"}\n",
        "renglon = 4 # 1\n",
        "columna = 0 # D\n",
        "print(f\"Valor en la celda {columnas_dict[columna]}{renglon+1} es: {hoja1.cell_value(rowx=renglon, colx=columna)}\")\n",
        "print(f\"Es de tipo: {type(hoja1.cell_value(rowx=renglon, colx=columna))}\")"
      ],
      "execution_count": null,
      "outputs": [
        {
          "output_type": "stream",
          "text": [
            "Valor en la celda A5 es: 1.0\n",
            "Es de tipo: <class 'float'>\n"
          ],
          "name": "stdout"
        }
      ]
    },
    {
      "cell_type": "code",
      "metadata": {
        "colab": {
          "base_uri": "https://localhost:8080/"
        },
        "id": "Nm_EB8-Gj_sb",
        "outputId": "be298443-b73d-4d31-d5a2-ff8fd80e7d57"
      },
      "source": [
        "# Modificando de flotante a entero\n",
        "int(hoja1.cell_value(rowx=renglon, colx=columna))"
      ],
      "execution_count": null,
      "outputs": [
        {
          "output_type": "execute_result",
          "data": {
            "text/plain": [
              "1"
            ]
          },
          "metadata": {
            "tags": []
          },
          "execution_count": 50
        }
      ]
    },
    {
      "cell_type": "code",
      "metadata": {
        "colab": {
          "base_uri": "https://localhost:8080/"
        },
        "id": "f4byu82I22Va",
        "outputId": "df071895-d1ea-49b2-e835-8ded7b483239"
      },
      "source": [
        "renglon = 4 # 3\n",
        "columna = 5 # D\n",
        "print(f\"Valor en la celda {columnas_dict[columna]}{renglon+1} es: {hoja1.cell_value(rowx=renglon, colx=columna)}\")\n",
        "print(f\"Es de tipo: {type(hoja1.cell_value(rowx=renglon, colx=columna))}\")"
      ],
      "execution_count": null,
      "outputs": [
        {
          "output_type": "stream",
          "text": [
            "Valor en la celda F5 es: Reprobado\n",
            "Es de tipo: <class 'str'>\n"
          ],
          "name": "stdout"
        }
      ]
    },
    {
      "cell_type": "code",
      "metadata": {
        "colab": {
          "base_uri": "https://localhost:8080/"
        },
        "id": "eZXRPxmC27TH",
        "outputId": "9713147a-67fa-4510-8a07-740ce41b67fb"
      },
      "source": [
        "# Probando con valor faltante\n",
        "hoja2 = documento.sheet_by_index(1)\n",
        "renglon = 6 # 3\n",
        "columna = 1 # E\n",
        "print(f\"Valor en la celda {columnas_dict[columna]}{renglon+1} es: {hoja2.cell_value(rowx=renglon, colx=columna)}\")\n",
        "print(f\"Es de tipo: {type(hoja1.cell_value(rowx=renglon, colx=columna))}\")"
      ],
      "execution_count": null,
      "outputs": [
        {
          "output_type": "stream",
          "text": [
            "Valor en la celda B7 es: \n",
            "Es de tipo: <class 'float'>\n"
          ],
          "name": "stdout"
        }
      ]
    },
    {
      "cell_type": "code",
      "metadata": {
        "colab": {
          "base_uri": "https://localhost:8080/"
        },
        "id": "RGf8Cymz-61-",
        "outputId": "a087dab2-17d1-4ca8-8534-937ef7c3b082"
      },
      "source": [
        "# Obteniendo la celda que nos interesa\n",
        "hoja1.row(4)[1]"
      ],
      "execution_count": null,
      "outputs": [
        {
          "output_type": "execute_result",
          "data": {
            "text/plain": [
              "number:10.0"
            ]
          },
          "metadata": {
            "tags": []
          },
          "execution_count": 54
        }
      ]
    },
    {
      "cell_type": "code",
      "metadata": {
        "colab": {
          "base_uri": "https://localhost:8080/"
        },
        "id": "8v3CavE2_DmD",
        "outputId": "fab57467-c347-4416-e034-abb9d4179493"
      },
      "source": [
        "# Obteniendo su valor\n",
        "hoja1.row(4)[1].value"
      ],
      "execution_count": null,
      "outputs": [
        {
          "output_type": "execute_result",
          "data": {
            "text/plain": [
              "10.0"
            ]
          },
          "metadata": {
            "tags": []
          },
          "execution_count": 55
        }
      ]
    },
    {
      "cell_type": "code",
      "metadata": {
        "colab": {
          "base_uri": "https://localhost:8080/",
          "height": 35
        },
        "id": "1DA1ldpQADTP",
        "outputId": "33cbbb30-3707-4b31-f30b-e9922d0f70d2"
      },
      "source": [
        "# Obteniendo la celda que nos interesa\n",
        "hoja1.row(2)[4].value"
      ],
      "execution_count": null,
      "outputs": [
        {
          "output_type": "execute_result",
          "data": {
            "application/vnd.google.colaboratory.intrinsic+json": {
              "type": "string"
            },
            "text/plain": [
              "''"
            ]
          },
          "metadata": {
            "tags": []
          },
          "execution_count": 56
        }
      ]
    },
    {
      "cell_type": "code",
      "metadata": {
        "colab": {
          "base_uri": "https://localhost:8080/"
        },
        "id": "Kt0R_t8CqUXW",
        "outputId": "af0208b3-4491-4ec5-d48a-61d3b9b4974a"
      },
      "source": [
        "# Obteniendo valor de tipo fecha\n",
        "# Deberíamos tener 2021-08-04 YYY-MM-DD\n",
        "hoja1.row(4)[-1]"
      ],
      "execution_count": null,
      "outputs": [
        {
          "output_type": "execute_result",
          "data": {
            "text/plain": [
              "xldate:44412.0"
            ]
          },
          "metadata": {
            "tags": []
          },
          "execution_count": 62
        }
      ]
    },
    {
      "cell_type": "code",
      "metadata": {
        "colab": {
          "base_uri": "https://localhost:8080/"
        },
        "id": "hbanKWPeBN-e",
        "outputId": "c694b948-f347-40b3-fa8b-497c201a55bd"
      },
      "source": [
        "print(f\"Tipo: {hoja1.row(4)[-1].ctype}\")\n",
        "print(f\"Celda tipo fecha: {xlrd.XL_CELL_DATE}\")"
      ],
      "execution_count": null,
      "outputs": [
        {
          "output_type": "stream",
          "text": [
            "Tipo: 3\n",
            "Celda tipo fecha: 3\n"
          ],
          "name": "stdout"
        }
      ]
    },
    {
      "cell_type": "code",
      "metadata": {
        "colab": {
          "base_uri": "https://localhost:8080/"
        },
        "id": "RgXJHJzQo8Gp",
        "outputId": "d220e9b2-3d53-4388-c6ec-db8ab86930a2"
      },
      "source": [
        "# Podemos usar la propiedad para detectar celdas de tipo fecha\n",
        "hoja1.row(4)[-1].ctype == xlrd.XL_CELL_DATE"
      ],
      "execution_count": null,
      "outputs": [
        {
          "output_type": "execute_result",
          "data": {
            "text/plain": [
              "True"
            ]
          },
          "metadata": {
            "tags": []
          },
          "execution_count": 69
        }
      ]
    },
    {
      "cell_type": "code",
      "metadata": {
        "id": "XwdlaOU4DLq8"
      },
      "source": [
        "from datetime import datetime"
      ],
      "execution_count": null,
      "outputs": []
    },
    {
      "cell_type": "code",
      "metadata": {
        "colab": {
          "base_uri": "https://localhost:8080/"
        },
        "id": "IRHS1sAxtJSP",
        "outputId": "60f2679d-1357-498f-9f5c-16be8d56a868"
      },
      "source": [
        "fecha = hoja1.row(4)[-1].value\n",
        "datetime(*xlrd.xldate_as_tuple(fecha, documento.datemode))"
      ],
      "execution_count": null,
      "outputs": [
        {
          "output_type": "execute_result",
          "data": {
            "text/plain": [
              "datetime.datetime(2021, 8, 4, 0, 0)"
            ]
          },
          "metadata": {
            "tags": []
          },
          "execution_count": 82
        }
      ]
    },
    {
      "cell_type": "code",
      "metadata": {
        "colab": {
          "base_uri": "https://localhost:8080/"
        },
        "id": "xU5Qv-7luhi3",
        "outputId": "aa463a81-5442-4062-aa10-15edba3a5008"
      },
      "source": [
        "datetime.strptime('21/08/10', '%y/%m/%d')"
      ],
      "execution_count": null,
      "outputs": [
        {
          "output_type": "execute_result",
          "data": {
            "text/plain": [
              "datetime.datetime(2021, 8, 10, 0, 0)"
            ]
          },
          "metadata": {
            "tags": []
          },
          "execution_count": 85
        }
      ]
    },
    {
      "cell_type": "code",
      "metadata": {
        "id": "0YqUj7kTEk3p"
      },
      "source": [
        "dia1 = datetime(*xlrd.xldate_as_tuple(fecha, documento.datemode))\n",
        "dia2 = datetime.strptime('21/08/10', '%y/%m/%d')"
      ],
      "execution_count": null,
      "outputs": []
    },
    {
      "cell_type": "code",
      "metadata": {
        "colab": {
          "base_uri": "https://localhost:8080/"
        },
        "id": "MkNjjPqgEpmB",
        "outputId": "02e29b42-da36-4748-cadd-2926fb75d891"
      },
      "source": [
        "abs(dia1 - dia2)"
      ],
      "execution_count": null,
      "outputs": [
        {
          "output_type": "execute_result",
          "data": {
            "text/plain": [
              "datetime.timedelta(days=6)"
            ]
          },
          "metadata": {
            "tags": []
          },
          "execution_count": 87
        }
      ]
    },
    {
      "cell_type": "markdown",
      "metadata": {
        "id": "Pz-wURRrFStl"
      },
      "source": [
        "# OS"
      ]
    },
    {
      "cell_type": "code",
      "metadata": {
        "id": "SAWsg-9zFW4J"
      },
      "source": [
        "import os "
      ],
      "execution_count": null,
      "outputs": []
    },
    {
      "cell_type": "code",
      "metadata": {
        "colab": {
          "base_uri": "https://localhost:8080/"
        },
        "id": "z5oQpHvnFYgH",
        "outputId": "1c1ba639-1a51-422a-c71a-62f0e6def8fd"
      },
      "source": [
        "os.listdir(\"./\")"
      ],
      "execution_count": null,
      "outputs": [
        {
          "output_type": "execute_result",
          "data": {
            "text/plain": [
              "['.config',\n",
              " 'Documento interactivo para taller.xlsx',\n",
              " '.ipynb_checkpoints',\n",
              " 'sample_data']"
            ]
          },
          "metadata": {
            "tags": []
          },
          "execution_count": 203
        }
      ]
    },
    {
      "cell_type": "markdown",
      "metadata": {
        "id": "ADI0dF4lX8uX"
      },
      "source": [
        "# Ejercicios"
      ]
    },
    {
      "cell_type": "markdown",
      "metadata": {
        "id": "aHBAgtMDGNh2"
      },
      "source": [
        ""
      ]
    },
    {
      "cell_type": "markdown",
      "metadata": {
        "id": "3gXU8hDzroqC"
      },
      "source": [
        "# PostgreSQL\n",
        "1. Descargarlo [PostreSQL](https://www.postgresql.org/download/)\n",
        "2. Abrir el ejecutable y continuar con las instrucciones"
      ]
    },
    {
      "cell_type": "code",
      "metadata": {
        "id": "tJMZRGV-YBsc"
      },
      "source": [
        ""
      ],
      "execution_count": null,
      "outputs": []
    }
  ]
}