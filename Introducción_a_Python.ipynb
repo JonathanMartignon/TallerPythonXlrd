{
  "nbformat": 4,
  "nbformat_minor": 0,
  "metadata": {
    "colab": {
      "name": "Introducción a Python.ipynb",
      "provenance": [],
      "collapsed_sections": [
        "b63nHvlTgEPB",
        "aBUo5XY7gWY0",
        "tRz0k4hMgXqZ",
        "2si7rSPPhUFt",
        "CrvyJ68Rh3Gg",
        "OrrRLy2kiDlV",
        "N5NE85xQiCay",
        "8B8_yesWiNmU",
        "bT7g7DBqiZjh"
      ],
      "authorship_tag": "ABX9TyNu/e92gNiqZQLmUjkLSQ39",
      "include_colab_link": true
    },
    "kernelspec": {
      "name": "python3",
      "display_name": "Python 3"
    },
    "language_info": {
      "name": "python"
    }
  },
  "cells": [
    {
      "cell_type": "markdown",
      "metadata": {
        "id": "view-in-github",
        "colab_type": "text"
      },
      "source": [
        "<a href=\"https://colab.research.google.com/github/JonathanMartignon/TallerPythonXlrd/blob/main/Introducci%C3%B3n_a_Python.ipynb\" target=\"_parent\"><img src=\"https://colab.research.google.com/assets/colab-badge.svg\" alt=\"Open In Colab\"/></a>"
      ]
    },
    {
      "cell_type": "markdown",
      "metadata": {
        "id": "rukmMQNlftBB"
      },
      "source": [
        "# Libreta introductoria a python.\n",
        "## Por: Jonathan Martiñón"
      ]
    },
    {
      "cell_type": "markdown",
      "metadata": {
        "id": "dwriN3myf2nG"
      },
      "source": [
        "# Instalar en Windows: [Microsoft](https://docs.microsoft.com/en-us/windows/python/beginners)\n",
        "\n",
        "1. Abrimos nuestra Microsoft Store\n",
        "2. Buscamos *Python 3.7*\n",
        "3. Seleccionamos \"Obtener\" y esperamos.\n",
        "4. Abrimos cmd (Podemos buscar la terminal en el buscador windows)\n",
        "5. Comprobamos con `python --version`\n",
        "\n",
        "Para descargar jupyter, lo haremos a través de Anaconda\n",
        "1. Nos dirigimos al sitio de [Anaconda](https://www.anaconda.com/products/individual) y descargamos nuestra versión\n",
        "2. Abrimos el ejecutable y seguimos las instrucciones\n",
        "3. No es necesario registrarse, basta con buscar Anaconda en el explorador de windows"
      ]
    },
    {
      "cell_type": "markdown",
      "metadata": {
        "id": "b63nHvlTgEPB"
      },
      "source": [
        "# Variables"
      ]
    },
    {
      "cell_type": "code",
      "metadata": {
        "colab": {
          "base_uri": "https://localhost:8080/"
        },
        "id": "D8jT09FYflJZ",
        "outputId": "9de25cc7-ff2a-4f71-aa04-6145b88497c5"
      },
      "source": [
        "# Enteros\n",
        "variable = 2\n",
        "print(variable)\n",
        "print(type(variable))"
      ],
      "execution_count": 1,
      "outputs": [
        {
          "output_type": "stream",
          "text": [
            "2\n",
            "<class 'int'>\n"
          ],
          "name": "stdout"
        }
      ]
    },
    {
      "cell_type": "code",
      "metadata": {
        "colab": {
          "base_uri": "https://localhost:8080/"
        },
        "id": "MLOwupG9gHnj",
        "outputId": "df3e9587-e292-492f-dfd4-e2176b8a77ca"
      },
      "source": [
        "# Flotantes\n",
        "variable = 2.0\n",
        "print(variable)\n",
        "print(type(variable))"
      ],
      "execution_count": 2,
      "outputs": [
        {
          "output_type": "stream",
          "text": [
            "2.0\n",
            "<class 'float'>\n"
          ],
          "name": "stdout"
        }
      ]
    },
    {
      "cell_type": "code",
      "metadata": {
        "colab": {
          "base_uri": "https://localhost:8080/"
        },
        "id": "wOj4qYFEgHkN",
        "outputId": "d5b14b70-20f0-460e-df58-a378ec506f70"
      },
      "source": [
        "# Cadenas\n",
        "variable = \"2\"\n",
        "print(variable)\n",
        "print(type(variable))"
      ],
      "execution_count": 3,
      "outputs": [
        {
          "output_type": "stream",
          "text": [
            "2\n",
            "<class 'str'>\n"
          ],
          "name": "stdout"
        }
      ]
    },
    {
      "cell_type": "code",
      "metadata": {
        "colab": {
          "base_uri": "https://localhost:8080/",
          "height": 0
        },
        "id": "IUMWe4oTgHh-",
        "outputId": "166fb23f-5324-4d83-e027-e1fa6fd49c6e"
      },
      "source": [
        "# una cadena puede tener comillas internas\n",
        "# Siempre que sean distintas a las que indican que es cadena\n",
        "\"Ejemplo de 'comillas'\""
      ],
      "execution_count": 4,
      "outputs": [
        {
          "output_type": "execute_result",
          "data": {
            "application/vnd.google.colaboratory.intrinsic+json": {
              "type": "string"
            },
            "text/plain": [
              "\"Ejemplo de 'comillas'\""
            ]
          },
          "metadata": {
            "tags": []
          },
          "execution_count": 4
        }
      ]
    },
    {
      "cell_type": "markdown",
      "metadata": {
        "id": "aBUo5XY7gWY0"
      },
      "source": [
        "# Operaciones"
      ]
    },
    {
      "cell_type": "markdown",
      "metadata": {
        "id": "tRz0k4hMgXqZ"
      },
      "source": [
        "## Básicas"
      ]
    },
    {
      "cell_type": "code",
      "metadata": {
        "colab": {
          "base_uri": "https://localhost:8080/"
        },
        "id": "Y22UPTjygHfG",
        "outputId": "0aeaca08-a349-4f88-aad0-c497d88df8b7"
      },
      "source": [
        "# Módulo (Residuo)\n",
        "200 % 2"
      ],
      "execution_count": 5,
      "outputs": [
        {
          "output_type": "execute_result",
          "data": {
            "text/plain": [
              "0"
            ]
          },
          "metadata": {
            "tags": []
          },
          "execution_count": 5
        }
      ]
    },
    {
      "cell_type": "code",
      "metadata": {
        "colab": {
          "base_uri": "https://localhost:8080/"
        },
        "id": "HPRVulRugHcg",
        "outputId": "45fa3dbd-e3c0-4bfa-f69a-c1f14b3a292c"
      },
      "source": [
        "# Multiplicación\n",
        "2*10"
      ],
      "execution_count": 6,
      "outputs": [
        {
          "output_type": "execute_result",
          "data": {
            "text/plain": [
              "20"
            ]
          },
          "metadata": {
            "tags": []
          },
          "execution_count": 6
        }
      ]
    },
    {
      "cell_type": "code",
      "metadata": {
        "colab": {
          "base_uri": "https://localhost:8080/"
        },
        "id": "KgIbbE_qgHaF",
        "outputId": "5b4eb5e6-93cb-44be-fdfa-e71e03374cf9"
      },
      "source": [
        "# Suma\n",
        "2 + 10"
      ],
      "execution_count": 7,
      "outputs": [
        {
          "output_type": "execute_result",
          "data": {
            "text/plain": [
              "12"
            ]
          },
          "metadata": {
            "tags": []
          },
          "execution_count": 7
        }
      ]
    },
    {
      "cell_type": "code",
      "metadata": {
        "colab": {
          "base_uri": "https://localhost:8080/"
        },
        "id": "_WesYYlSgHXi",
        "outputId": "8b1bc999-fc09-4f23-e338-91712e1cee60"
      },
      "source": [
        "# Potencia\n",
        "2 ** 3"
      ],
      "execution_count": 8,
      "outputs": [
        {
          "output_type": "execute_result",
          "data": {
            "text/plain": [
              "8"
            ]
          },
          "metadata": {
            "tags": []
          },
          "execution_count": 8
        }
      ]
    },
    {
      "cell_type": "code",
      "metadata": {
        "colab": {
          "base_uri": "https://localhost:8080/"
        },
        "id": "PGQO_igdgHVH",
        "outputId": "aa6ad1e7-5a59-4e39-ed47-b6c083937cf5"
      },
      "source": [
        "# Función piso (Redondea al entero menor más próximo)\n",
        "# 1.9 -> 1\n",
        "19 // 5"
      ],
      "execution_count": 9,
      "outputs": [
        {
          "output_type": "execute_result",
          "data": {
            "text/plain": [
              "3"
            ]
          },
          "metadata": {
            "tags": []
          },
          "execution_count": 9
        }
      ]
    },
    {
      "cell_type": "code",
      "metadata": {
        "colab": {
          "base_uri": "https://localhost:8080/",
          "height": 35
        },
        "id": "06CgmYRqgHTL",
        "outputId": "2fa1e255-4cc4-42b7-bdda-a99ef645dd7c"
      },
      "source": [
        "# Multiplicación por caracter\n",
        "\"a\"*10"
      ],
      "execution_count": 10,
      "outputs": [
        {
          "output_type": "execute_result",
          "data": {
            "application/vnd.google.colaboratory.intrinsic+json": {
              "type": "string"
            },
            "text/plain": [
              "'aaaaaaaaaa'"
            ]
          },
          "metadata": {
            "tags": []
          },
          "execution_count": 10
        }
      ]
    },
    {
      "cell_type": "code",
      "metadata": {
        "colab": {
          "base_uri": "https://localhost:8080/",
          "height": 35
        },
        "id": "ULzmjg5BgGDo",
        "outputId": "653d5fb4-f0c9-4905-ecfb-e1e56ecae91c"
      },
      "source": [
        "# Multiplicación por cadena\n",
        "\"201 \" * 2"
      ],
      "execution_count": 11,
      "outputs": [
        {
          "output_type": "execute_result",
          "data": {
            "application/vnd.google.colaboratory.intrinsic+json": {
              "type": "string"
            },
            "text/plain": [
              "'201 201 '"
            ]
          },
          "metadata": {
            "tags": []
          },
          "execution_count": 11
        }
      ]
    },
    {
      "cell_type": "code",
      "metadata": {
        "colab": {
          "base_uri": "https://localhost:8080/",
          "height": 214
        },
        "id": "2lEVXCnHgGZh",
        "outputId": "9ee9fda0-bc23-4aa4-ebde-ca4d05b293b6"
      },
      "source": [
        "# Operaciones no compatibles\n",
        "\"a\" + 10\n",
        "\"a\" / 10\n",
        "\"a\" - 10"
      ],
      "execution_count": 12,
      "outputs": [
        {
          "output_type": "error",
          "ename": "TypeError",
          "evalue": "ignored",
          "traceback": [
            "\u001b[0;31m---------------------------------------------------------------------------\u001b[0m",
            "\u001b[0;31mTypeError\u001b[0m                                 Traceback (most recent call last)",
            "\u001b[0;32m<ipython-input-12-a18bc386a876>\u001b[0m in \u001b[0;36m<module>\u001b[0;34m()\u001b[0m\n\u001b[1;32m      1\u001b[0m \u001b[0;31m# Operaciones no compatibles\u001b[0m\u001b[0;34m\u001b[0m\u001b[0;34m\u001b[0m\u001b[0;34m\u001b[0m\u001b[0m\n\u001b[0;32m----> 2\u001b[0;31m \u001b[0;34m\"a\"\u001b[0m \u001b[0;34m+\u001b[0m \u001b[0;36m10\u001b[0m\u001b[0;34m\u001b[0m\u001b[0;34m\u001b[0m\u001b[0m\n\u001b[0m\u001b[1;32m      3\u001b[0m \u001b[0;34m\"a\"\u001b[0m \u001b[0;34m/\u001b[0m \u001b[0;36m10\u001b[0m\u001b[0;34m\u001b[0m\u001b[0;34m\u001b[0m\u001b[0m\n\u001b[1;32m      4\u001b[0m \u001b[0;34m\"a\"\u001b[0m \u001b[0;34m-\u001b[0m \u001b[0;36m10\u001b[0m\u001b[0;34m\u001b[0m\u001b[0;34m\u001b[0m\u001b[0m\n",
            "\u001b[0;31mTypeError\u001b[0m: can only concatenate str (not \"int\") to str"
          ]
        }
      ]
    },
    {
      "cell_type": "code",
      "metadata": {
        "colab": {
          "base_uri": "https://localhost:8080/"
        },
        "id": "Mr6q9EErhPYd",
        "outputId": "c886bdf0-80d1-419d-e741-23d0fa1c5c3f"
      },
      "source": [
        "# Podemos tomar una parte de la cadena\n",
        "cad = \"Hola, cómo estás?\"\n",
        "\n",
        "# hay que tomar en cuenta que si hacemos [:10]\n",
        "# Por la numeración, no toma el elemento 10, sino el 9\n",
        "\n",
        "# Tomamos los primeros 10 elementos\n",
        "print(\"10 primeros:\",cad[:10])\n",
        "\n",
        "# Tomamos los últimos 10 elementos\n",
        "print(\"10 últimos:\",cad[-10:])\n",
        "\n",
        "# Tomamos del 5to al 15vo elemento\n",
        "print(\"Caracteres del 5 al 15:\",cad[6:15])"
      ],
      "execution_count": 13,
      "outputs": [
        {
          "output_type": "stream",
          "text": [
            "10 primeros: Hola, cómo\n",
            "10 últimos: ómo estás?\n",
            "Caracteres del 5 al 15: cómo está\n"
          ],
          "name": "stdout"
        }
      ]
    },
    {
      "cell_type": "markdown",
      "metadata": {
        "id": "2si7rSPPhUFt"
      },
      "source": [
        "## Entre Variables"
      ]
    },
    {
      "cell_type": "code",
      "metadata": {
        "id": "BNIMP6v-hWE7"
      },
      "source": [
        "#Declaración de variables\n",
        "variable1 = 10\n",
        "variable2 = 20\n",
        "variable3 = \"hola mundo\""
      ],
      "execution_count": 14,
      "outputs": []
    },
    {
      "cell_type": "code",
      "metadata": {
        "colab": {
          "base_uri": "https://localhost:8080/"
        },
        "id": "TYg3OTWahZi8",
        "outputId": "2a11d2f9-8f6f-44d5-ba46-97232733956c"
      },
      "source": [
        "# Multiplicacion de variables\n",
        "variable1 * variable2"
      ],
      "execution_count": 15,
      "outputs": [
        {
          "output_type": "execute_result",
          "data": {
            "text/plain": [
              "200"
            ]
          },
          "metadata": {
            "tags": []
          },
          "execution_count": 15
        }
      ]
    },
    {
      "cell_type": "code",
      "metadata": {
        "colab": {
          "base_uri": "https://localhost:8080/"
        },
        "id": "AhgDefhIhYDR",
        "outputId": "8d6dcba1-85b6-4472-a1d6-7c016e49afd9"
      },
      "source": [
        "# incrementamos la variable en su valor más 10\n",
        "variable1 += 10\n",
        "# Mostramos la variable\n",
        "variable1"
      ],
      "execution_count": 16,
      "outputs": [
        {
          "output_type": "execute_result",
          "data": {
            "text/plain": [
              "20"
            ]
          },
          "metadata": {
            "tags": []
          },
          "execution_count": 16
        }
      ]
    },
    {
      "cell_type": "code",
      "metadata": {
        "colab": {
          "base_uri": "https://localhost:8080/"
        },
        "id": "nMYdShCHhfOB",
        "outputId": "38faaa9d-f745-42de-f555-08dde595bfec"
      },
      "source": [
        "# decrementamos la variable en su valor menos 5\n",
        "variable1 -= 5\n",
        "# Mostramos la variable\n",
        "variable1"
      ],
      "execution_count": 17,
      "outputs": [
        {
          "output_type": "execute_result",
          "data": {
            "text/plain": [
              "15"
            ]
          },
          "metadata": {
            "tags": []
          },
          "execution_count": 17
        }
      ]
    },
    {
      "cell_type": "code",
      "metadata": {
        "colab": {
          "base_uri": "https://localhost:8080/",
          "height": 0
        },
        "id": "mXw_cDpAhhPL",
        "outputId": "7232cd2b-c983-4c9c-f326-2a1d8042b4b2"
      },
      "source": [
        "# Capitalizamos la cadena\n",
        "variable3.capitalize()"
      ],
      "execution_count": 18,
      "outputs": [
        {
          "output_type": "execute_result",
          "data": {
            "application/vnd.google.colaboratory.intrinsic+json": {
              "type": "string"
            },
            "text/plain": [
              "'Hola mundo'"
            ]
          },
          "metadata": {
            "tags": []
          },
          "execution_count": 18
        }
      ]
    },
    {
      "cell_type": "code",
      "metadata": {
        "colab": {
          "base_uri": "https://localhost:8080/",
          "height": 0
        },
        "id": "Rpl2TQBXhhLO",
        "outputId": "71cc85d8-80c1-459c-b179-aa939262e607"
      },
      "source": [
        "# Cadena a mayúsculas\n",
        "variable3.upper()"
      ],
      "execution_count": 19,
      "outputs": [
        {
          "output_type": "execute_result",
          "data": {
            "application/vnd.google.colaboratory.intrinsic+json": {
              "type": "string"
            },
            "text/plain": [
              "'HOLA MUNDO'"
            ]
          },
          "metadata": {
            "tags": []
          },
          "execution_count": 19
        }
      ]
    },
    {
      "cell_type": "code",
      "metadata": {
        "colab": {
          "base_uri": "https://localhost:8080/",
          "height": 0
        },
        "id": "0bb571rShhIy",
        "outputId": "a2bd5fb4-a4aa-4ca1-da1e-3895d37eecea"
      },
      "source": [
        "# Cada inicio con mayúsculas\n",
        "variable3.title()"
      ],
      "execution_count": 20,
      "outputs": [
        {
          "output_type": "execute_result",
          "data": {
            "application/vnd.google.colaboratory.intrinsic+json": {
              "type": "string"
            },
            "text/plain": [
              "'Hola Mundo'"
            ]
          },
          "metadata": {
            "tags": []
          },
          "execution_count": 20
        }
      ]
    },
    {
      "cell_type": "code",
      "metadata": {
        "colab": {
          "base_uri": "https://localhost:8080/",
          "height": 0
        },
        "id": "_Eq5WMyQhhGN",
        "outputId": "81a761ab-e62f-468b-9829-2789c2539042"
      },
      "source": [
        "#Reemplazando \"o\" por \"0\"\n",
        "variable3.replace(\"o\",\"0\")"
      ],
      "execution_count": 21,
      "outputs": [
        {
          "output_type": "execute_result",
          "data": {
            "application/vnd.google.colaboratory.intrinsic+json": {
              "type": "string"
            },
            "text/plain": [
              "'h0la mund0'"
            ]
          },
          "metadata": {
            "tags": []
          },
          "execution_count": 21
        }
      ]
    },
    {
      "cell_type": "code",
      "metadata": {
        "colab": {
          "base_uri": "https://localhost:8080/"
        },
        "id": "NLDFrfYvhhDg",
        "outputId": "c68953cd-81a2-4dfa-d024-95ad3cbfd736"
      },
      "source": [
        "# Generando una lista a partir de cada espacio\n",
        "variable3.split()"
      ],
      "execution_count": 22,
      "outputs": [
        {
          "output_type": "execute_result",
          "data": {
            "text/plain": [
              "['hola', 'mundo']"
            ]
          },
          "metadata": {
            "tags": []
          },
          "execution_count": 22
        }
      ]
    },
    {
      "cell_type": "code",
      "metadata": {
        "colab": {
          "base_uri": "https://localhost:8080/"
        },
        "id": "2oFqzYAIhhBd",
        "outputId": "b150ce65-54a1-4b37-b4e4-21e8a1967fbb"
      },
      "source": [
        "# Generando una lista a partir de cada o\n",
        "variable3.split(\"o\")"
      ],
      "execution_count": 23,
      "outputs": [
        {
          "output_type": "execute_result",
          "data": {
            "text/plain": [
              "['h', 'la mund', '']"
            ]
          },
          "metadata": {
            "tags": []
          },
          "execution_count": 23
        }
      ]
    },
    {
      "cell_type": "code",
      "metadata": {
        "colab": {
          "base_uri": "https://localhost:8080/",
          "height": 0
        },
        "id": "Osti41lshg-T",
        "outputId": "3309fc95-c78a-4e31-e76f-e667b1ff21a4"
      },
      "source": [
        "# Concatenando cadenas\n",
        "\"Hola\" + \"Cómo\" + \"Estás?\""
      ],
      "execution_count": 24,
      "outputs": [
        {
          "output_type": "execute_result",
          "data": {
            "application/vnd.google.colaboratory.intrinsic+json": {
              "type": "string"
            },
            "text/plain": [
              "'HolaCómoEstás?'"
            ]
          },
          "metadata": {
            "tags": []
          },
          "execution_count": 24
        }
      ]
    },
    {
      "cell_type": "code",
      "metadata": {
        "colab": {
          "base_uri": "https://localhost:8080/",
          "height": 0
        },
        "id": "znS1MttEhg8R",
        "outputId": "9e2daeb7-b927-44d2-9151-e55c7f23a9fd"
      },
      "source": [
        "# Concatenando cadenas en variables\n",
        "cad1 = \"Hola \"\n",
        "cad2 = \"Cómo estás?\"\n",
        "cad1 + cad2"
      ],
      "execution_count": 25,
      "outputs": [
        {
          "output_type": "execute_result",
          "data": {
            "application/vnd.google.colaboratory.intrinsic+json": {
              "type": "string"
            },
            "text/plain": [
              "'Hola Cómo estás?'"
            ]
          },
          "metadata": {
            "tags": []
          },
          "execution_count": 25
        }
      ]
    },
    {
      "cell_type": "markdown",
      "metadata": {
        "id": "CrvyJ68Rh3Gg"
      },
      "source": [
        "# Conversión de tipo de dato"
      ]
    },
    {
      "cell_type": "markdown",
      "metadata": {
        "id": "OrrRLy2kiDlV"
      },
      "source": [
        "## Entero"
      ]
    },
    {
      "cell_type": "code",
      "metadata": {
        "colab": {
          "base_uri": "https://localhost:8080/"
        },
        "id": "OfndU8YuiEwk",
        "outputId": "300cebca-5cd0-4728-ba96-7708f3892c6f"
      },
      "source": [
        "# Declaramos una variable entera\n",
        "var1 = 2\n",
        "# Verificamos su clase (tipo)\n",
        "print(var1,type(var1))"
      ],
      "execution_count": 26,
      "outputs": [
        {
          "output_type": "stream",
          "text": [
            "2 <class 'int'>\n"
          ],
          "name": "stdout"
        }
      ]
    },
    {
      "cell_type": "code",
      "metadata": {
        "colab": {
          "base_uri": "https://localhost:8080/"
        },
        "id": "LVesdCP4iHN1",
        "outputId": "2a43f301-bbe4-4263-9a25-32ff5eb61581"
      },
      "source": [
        "# Convertimos a string\n",
        "var_str_1 = str(var1)\n",
        "# Verificamos su clase (tipo)\n",
        "print(var_str_1,type(var_str_1))"
      ],
      "execution_count": 27,
      "outputs": [
        {
          "output_type": "stream",
          "text": [
            "2 <class 'str'>\n"
          ],
          "name": "stdout"
        }
      ]
    },
    {
      "cell_type": "code",
      "metadata": {
        "colab": {
          "base_uri": "https://localhost:8080/"
        },
        "id": "mXF1EKnWiJTj",
        "outputId": "b75e2c66-6055-45e0-f877-0bec58eaabe0"
      },
      "source": [
        "# Convertimos a flotante\n",
        "var_float_1 = float(var1)\n",
        "# Verificamos su clase (tipo)\n",
        "print(var_float_1,type(var_float_1))"
      ],
      "execution_count": 28,
      "outputs": [
        {
          "output_type": "stream",
          "text": [
            "2.0 <class 'float'>\n"
          ],
          "name": "stdout"
        }
      ]
    },
    {
      "cell_type": "markdown",
      "metadata": {
        "id": "N5NE85xQiCay"
      },
      "source": [
        "## Cadena"
      ]
    },
    {
      "cell_type": "code",
      "metadata": {
        "colab": {
          "base_uri": "https://localhost:8080/"
        },
        "id": "-RMG3Z_Hhg50",
        "outputId": "8731651d-88f9-477e-ff92-62ceaee8b59f"
      },
      "source": [
        "# Declaramos una cadena\n",
        "var2 = \"Hola\"\n",
        "# Verificamos su clase (tipo)\n",
        "print(var2,type(var2))"
      ],
      "execution_count": 29,
      "outputs": [
        {
          "output_type": "stream",
          "text": [
            "Hola <class 'str'>\n"
          ],
          "name": "stdout"
        }
      ]
    },
    {
      "cell_type": "code",
      "metadata": {
        "colab": {
          "base_uri": "https://localhost:8080/",
          "height": 214
        },
        "id": "9Bm7BiBEhg3O",
        "outputId": "327b5711-98c0-4e6c-c046-6ac7fae728bb"
      },
      "source": [
        "# Convertimos a entero\n",
        "var_int_2 = int(var2)\n",
        "# Verificamos su clase (tipo)\n",
        "print(var_int_2,type(var_int_2))"
      ],
      "execution_count": 30,
      "outputs": [
        {
          "output_type": "error",
          "ename": "ValueError",
          "evalue": "ignored",
          "traceback": [
            "\u001b[0;31m---------------------------------------------------------------------------\u001b[0m",
            "\u001b[0;31mValueError\u001b[0m                                Traceback (most recent call last)",
            "\u001b[0;32m<ipython-input-30-bb79dd7cfa36>\u001b[0m in \u001b[0;36m<module>\u001b[0;34m()\u001b[0m\n\u001b[1;32m      1\u001b[0m \u001b[0;31m# Convertimos a entero\u001b[0m\u001b[0;34m\u001b[0m\u001b[0;34m\u001b[0m\u001b[0;34m\u001b[0m\u001b[0m\n\u001b[0;32m----> 2\u001b[0;31m \u001b[0mvar_int_2\u001b[0m \u001b[0;34m=\u001b[0m \u001b[0mint\u001b[0m\u001b[0;34m(\u001b[0m\u001b[0mvar2\u001b[0m\u001b[0;34m)\u001b[0m\u001b[0;34m\u001b[0m\u001b[0;34m\u001b[0m\u001b[0m\n\u001b[0m\u001b[1;32m      3\u001b[0m \u001b[0;31m# Verificamos su clase (tipo)\u001b[0m\u001b[0;34m\u001b[0m\u001b[0;34m\u001b[0m\u001b[0;34m\u001b[0m\u001b[0m\n\u001b[1;32m      4\u001b[0m \u001b[0mprint\u001b[0m\u001b[0;34m(\u001b[0m\u001b[0mvar_int_2\u001b[0m\u001b[0;34m,\u001b[0m\u001b[0mtype\u001b[0m\u001b[0;34m(\u001b[0m\u001b[0mvar_int_2\u001b[0m\u001b[0;34m)\u001b[0m\u001b[0;34m)\u001b[0m\u001b[0;34m\u001b[0m\u001b[0;34m\u001b[0m\u001b[0m\n",
            "\u001b[0;31mValueError\u001b[0m: invalid literal for int() with base 10: 'Hola'"
          ]
        }
      ]
    },
    {
      "cell_type": "code",
      "metadata": {
        "colab": {
          "base_uri": "https://localhost:8080/",
          "height": 214
        },
        "id": "6mG2kepvhg05",
        "outputId": "cf3ef9cb-8996-46db-aa2c-c453887b4bff"
      },
      "source": [
        "# Convertimos a flotante\n",
        "var_float_2 = float(var2)\n",
        "# Verificamos su clase (tipo)\n",
        "print(var_float_2,type(var_float_2))"
      ],
      "execution_count": 31,
      "outputs": [
        {
          "output_type": "error",
          "ename": "ValueError",
          "evalue": "ignored",
          "traceback": [
            "\u001b[0;31m---------------------------------------------------------------------------\u001b[0m",
            "\u001b[0;31mValueError\u001b[0m                                Traceback (most recent call last)",
            "\u001b[0;32m<ipython-input-31-2dda7344195a>\u001b[0m in \u001b[0;36m<module>\u001b[0;34m()\u001b[0m\n\u001b[1;32m      1\u001b[0m \u001b[0;31m# Convertimos a flotante\u001b[0m\u001b[0;34m\u001b[0m\u001b[0;34m\u001b[0m\u001b[0;34m\u001b[0m\u001b[0m\n\u001b[0;32m----> 2\u001b[0;31m \u001b[0mvar_float_2\u001b[0m \u001b[0;34m=\u001b[0m \u001b[0mfloat\u001b[0m\u001b[0;34m(\u001b[0m\u001b[0mvar2\u001b[0m\u001b[0;34m)\u001b[0m\u001b[0;34m\u001b[0m\u001b[0;34m\u001b[0m\u001b[0m\n\u001b[0m\u001b[1;32m      3\u001b[0m \u001b[0;31m# Verificamos su clase (tipo)\u001b[0m\u001b[0;34m\u001b[0m\u001b[0;34m\u001b[0m\u001b[0;34m\u001b[0m\u001b[0m\n\u001b[1;32m      4\u001b[0m \u001b[0mprint\u001b[0m\u001b[0;34m(\u001b[0m\u001b[0mvar_float_2\u001b[0m\u001b[0;34m,\u001b[0m\u001b[0mtype\u001b[0m\u001b[0;34m(\u001b[0m\u001b[0mvar_float_2\u001b[0m\u001b[0;34m)\u001b[0m\u001b[0;34m)\u001b[0m\u001b[0;34m\u001b[0m\u001b[0;34m\u001b[0m\u001b[0m\n",
            "\u001b[0;31mValueError\u001b[0m: could not convert string to float: 'Hola'"
          ]
        }
      ]
    },
    {
      "cell_type": "markdown",
      "metadata": {
        "id": "8B8_yesWiNmU"
      },
      "source": [
        "# Listas"
      ]
    },
    {
      "cell_type": "code",
      "metadata": {
        "colab": {
          "base_uri": "https://localhost:8080/"
        },
        "id": "wFo7FWoEiR-X",
        "outputId": "bc878301-393c-4363-b828-015e6c47a7cd"
      },
      "source": [
        "# Listas\n",
        "# Conjunto de elementos \n",
        "lista = [\"2\",2,2.0]\n",
        "lista"
      ],
      "execution_count": 32,
      "outputs": [
        {
          "output_type": "execute_result",
          "data": {
            "text/plain": [
              "['2', 2, 2.0]"
            ]
          },
          "metadata": {
            "tags": []
          },
          "execution_count": 32
        }
      ]
    },
    {
      "cell_type": "code",
      "metadata": {
        "colab": {
          "base_uri": "https://localhost:8080/",
          "height": 35
        },
        "id": "Qw6cxTx9iR62",
        "outputId": "07aa647a-a76b-455f-e7eb-8f515f6731ec"
      },
      "source": [
        "# Accediendo a un elemento en particular\n",
        "lista[0]"
      ],
      "execution_count": 33,
      "outputs": [
        {
          "output_type": "execute_result",
          "data": {
            "application/vnd.google.colaboratory.intrinsic+json": {
              "type": "string"
            },
            "text/plain": [
              "'2'"
            ]
          },
          "metadata": {
            "tags": []
          },
          "execution_count": 33
        }
      ]
    },
    {
      "cell_type": "code",
      "metadata": {
        "colab": {
          "base_uri": "https://localhost:8080/"
        },
        "id": "R68-o_0oiR4H",
        "outputId": "96d1f6ea-680c-4c3f-a905-f996c1abbf2d"
      },
      "source": [
        "# Editando 1 elemento en particular\n",
        "print(\"Lista\",lista)\n",
        "lista[0] = \"Cambio\"\n",
        "print(\"Nueva Lista:\",lista)"
      ],
      "execution_count": 34,
      "outputs": [
        {
          "output_type": "stream",
          "text": [
            "Lista ['2', 2, 2.0]\n",
            "Nueva Lista: ['Cambio', 2, 2.0]\n"
          ],
          "name": "stdout"
        }
      ]
    },
    {
      "cell_type": "code",
      "metadata": {
        "colab": {
          "base_uri": "https://localhost:8080/"
        },
        "id": "qgUNSm_biR1d",
        "outputId": "142a8807-079e-40ac-c0ac-9a94b058e9d4"
      },
      "source": [
        "# Recorriendo cada elemento de la lista\n",
        "for elemento in lista:\n",
        "  print(elemento)"
      ],
      "execution_count": 35,
      "outputs": [
        {
          "output_type": "stream",
          "text": [
            "Cambio\n",
            "2\n",
            "2.0\n"
          ],
          "name": "stdout"
        }
      ]
    },
    {
      "cell_type": "code",
      "metadata": {
        "colab": {
          "base_uri": "https://localhost:8080/"
        },
        "id": "kXaSno9NiRzj",
        "outputId": "b8ee62bd-5df5-4f05-bbca-ec80ce49bdea"
      },
      "source": [
        "# Recorriendo y enumerando cada elemento de la lista\n",
        "for i,elemento in enumerate(lista):\n",
        "  #print(i+1,\".- \",elemento)\n",
        "  print(f\"{i+1}.- {elemento}\")"
      ],
      "execution_count": 36,
      "outputs": [
        {
          "output_type": "stream",
          "text": [
            "1.- Cambio\n",
            "2.- 2\n",
            "3.- 2.0\n"
          ],
          "name": "stdout"
        }
      ]
    },
    {
      "cell_type": "code",
      "metadata": {
        "colab": {
          "base_uri": "https://localhost:8080/"
        },
        "id": "vejKrcZUiRvX",
        "outputId": "3583e330-5511-413c-9707-83516c5cd2c2"
      },
      "source": [
        "# Agregando elemento a una lista\n",
        "print(\"Lista: \",lista)\n",
        "lista.append(\"new\")\n",
        "print(\"nueva lista: \",lista)"
      ],
      "execution_count": 37,
      "outputs": [
        {
          "output_type": "stream",
          "text": [
            "Lista:  ['Cambio', 2, 2.0]\n",
            "nueva lista:  ['Cambio', 2, 2.0, 'new']\n"
          ],
          "name": "stdout"
        }
      ]
    },
    {
      "cell_type": "markdown",
      "metadata": {
        "id": "bT7g7DBqiZjh"
      },
      "source": [
        "# Funciones\n",
        "\n",
        "\n",
        "La sintaxis es:\n",
        "\n",
        "`def` nombre (`variables`):\n",
        "\n",
        "  `Proceso interno`"
      ]
    },
    {
      "cell_type": "code",
      "metadata": {
        "id": "mEh9bSY8iRso"
      },
      "source": [
        "#Generamos una función\n",
        "def mi_primer_funcion():\n",
        "  '''\n",
        "  @Autor: Jonathan Martiñón\n",
        "\n",
        "  @Descripción:   Función ejemplo\n",
        "\n",
        "  @Parámetros:    None\n",
        "\n",
        "  @Devuelve:      None\n",
        "\n",
        "  @Ejemplo:\n",
        "\n",
        "  mi_primer_funcion()\n",
        "  >>> 'Esta es mi primer función'\n",
        "  '''\n",
        "\n",
        "  print(\"Esta es mi primer función\")"
      ],
      "execution_count": 38,
      "outputs": []
    },
    {
      "cell_type": "code",
      "metadata": {
        "colab": {
          "base_uri": "https://localhost:8080/"
        },
        "id": "yQq_KWjriRq8",
        "outputId": "574197bc-e125-4353-fab7-372687b56800"
      },
      "source": [
        "# Llamamos a la función\n",
        "mi_primer_funcion()"
      ],
      "execution_count": 39,
      "outputs": [
        {
          "output_type": "stream",
          "text": [
            "Esta es mi primer función\n"
          ],
          "name": "stdout"
        }
      ]
    },
    {
      "cell_type": "code",
      "metadata": {
        "id": "Ikf5ed4OiRne"
      },
      "source": [
        "# Generamos otra función\n",
        "def cuadrado(x):\n",
        "  '''\n",
        "  @Autor: Jonathan Martiñón\n",
        "\n",
        "  @Descripción:   Función ejemplo para calcular cuadrados\n",
        "\n",
        "  @Parámetros:    \n",
        "\n",
        "  x               Número a calcular su cuadrado         INT / FLOAT\n",
        "\n",
        "  @Devuelve:      None\n",
        "\n",
        "  @Ejemplo:\n",
        "\n",
        "  x = 2\n",
        "  cuadrado(x)\n",
        "  >>> El cuadrado de 2 es 4 \n",
        "\n",
        "  x = 8\n",
        "  cuadrado(x)\n",
        "  >>> El cuadrado de 8 es 64 \n",
        "  '''\n",
        "\n",
        "  print(f\"El cuadrado de {x} es {x*x}\")\n",
        "  #print(f\"El cuadrado de {x} es {x**2}\")"
      ],
      "execution_count": 40,
      "outputs": []
    },
    {
      "cell_type": "code",
      "metadata": {
        "colab": {
          "base_uri": "https://localhost:8080/"
        },
        "id": "iKWcWWf6iRkv",
        "outputId": "2187cd34-fd7c-4c34-ee01-963d55b2b40d"
      },
      "source": [
        "# Probamos la función \"cuadrado\"\n",
        "x = 2\n",
        "cuadrado(x)"
      ],
      "execution_count": 41,
      "outputs": [
        {
          "output_type": "stream",
          "text": [
            "El cuadrado de 2 es 4\n"
          ],
          "name": "stdout"
        }
      ]
    },
    {
      "cell_type": "code",
      "metadata": {
        "id": "sM6-JUT-i0eC"
      },
      "source": [
        "# Generamos una función que sí retorna valores\n",
        "def cuadrado_con_retorno(x):\n",
        "  '''\n",
        "  @Autor: Jonathan Martiñón\n",
        "\n",
        "  @Descripción:   Función ejemplo para calcular cuadrados con retorno\n",
        "\n",
        "  @Parámetros:    \n",
        "\n",
        "  x               Número a calcular su cuadrado         INT / FLOAT\n",
        "\n",
        "  @Devuelve:\n",
        "\n",
        "  cuad            Cuadrado de x\n",
        "\n",
        "  @Ejemplo:\n",
        "\n",
        "  x = 2\n",
        "  cuadrado(x)\n",
        "  >>> 4\n",
        "\n",
        "  x = 8\n",
        "  cuadrado(x)\n",
        "  >>> 64\n",
        "  '''\n",
        "\n",
        "  cuad = x ** 2\n",
        "  return cuad"
      ],
      "execution_count": 42,
      "outputs": []
    },
    {
      "cell_type": "code",
      "metadata": {
        "colab": {
          "base_uri": "https://localhost:8080/"
        },
        "id": "eczq27vQi4o9",
        "outputId": "ca0987e4-9226-49ec-f208-99d081dffa45"
      },
      "source": [
        "# Probamos la nueva función\n",
        "x = 2\n",
        "# Aparenta un print\n",
        "cuadrado_con_retorno(x)"
      ],
      "execution_count": 43,
      "outputs": [
        {
          "output_type": "execute_result",
          "data": {
            "text/plain": [
              "4"
            ]
          },
          "metadata": {
            "tags": []
          },
          "execution_count": 43
        }
      ]
    },
    {
      "cell_type": "code",
      "metadata": {
        "colab": {
          "base_uri": "https://localhost:8080/"
        },
        "id": "N_gpiQSIi6ig",
        "outputId": "c0d73177-f5c4-4eb4-fe0f-903e0e8a86e3"
      },
      "source": [
        "# Asignamos el valor que devuelve\n",
        "auxiliar = cuadrado_con_retorno(x)\n",
        "# Mostramos el valor que devolvió\n",
        "print(auxiliar)"
      ],
      "execution_count": 44,
      "outputs": [
        {
          "output_type": "stream",
          "text": [
            "4\n"
          ],
          "name": "stdout"
        }
      ]
    },
    {
      "cell_type": "markdown",
      "metadata": {
        "id": "RlGDTPlIjE05"
      },
      "source": [
        "## IF"
      ]
    },
    {
      "cell_type": "code",
      "metadata": {
        "colab": {
          "base_uri": "https://localhost:8080/"
        },
        "id": "dgIxmWpCjD6w",
        "outputId": "d8af0346-782c-48e8-cc7e-81118b76bd88"
      },
      "source": [
        "# Igual\n",
        "if 2 == \"2\":\n",
        "  print(\"Es igual\")\n",
        "else:\n",
        "  print(\"Son distintos\")"
      ],
      "execution_count": 45,
      "outputs": [
        {
          "output_type": "stream",
          "text": [
            "Son distintos\n"
          ],
          "name": "stdout"
        }
      ]
    },
    {
      "cell_type": "code",
      "metadata": {
        "colab": {
          "base_uri": "https://localhost:8080/"
        },
        "id": "eQCTuJs8jG5p",
        "outputId": "2fc1398d-eed8-4702-8070-f1899d0dc0f3"
      },
      "source": [
        "# Igual\n",
        "if 2 == 2:\n",
        "  print(\"Es igual\")\n",
        "else:\n",
        "  print(\"Son distintos\")"
      ],
      "execution_count": 46,
      "outputs": [
        {
          "output_type": "stream",
          "text": [
            "Es igual\n"
          ],
          "name": "stdout"
        }
      ]
    },
    {
      "cell_type": "code",
      "metadata": {
        "colab": {
          "base_uri": "https://localhost:8080/"
        },
        "id": "LvzEcaSdjGjQ",
        "outputId": "9acbc059-4d1e-4666-e331-df21c8081c61"
      },
      "source": [
        "# Igual\n",
        "if \"Hola, mundo\" == \"hola, mundo\":\n",
        "  print(\"Es igual\")\n",
        "else:\n",
        "  print(\"Son distintos\")"
      ],
      "execution_count": 47,
      "outputs": [
        {
          "output_type": "stream",
          "text": [
            "Son distintos\n"
          ],
          "name": "stdout"
        }
      ]
    },
    {
      "cell_type": "code",
      "metadata": {
        "colab": {
          "base_uri": "https://localhost:8080/"
        },
        "id": "pyGpwuObjGf3",
        "outputId": "25f81e40-7726-4f10-9f08-d2514dd76fd5"
      },
      "source": [
        "# Dos comparaciones\n",
        "if 5 < 10 and  5>1:\n",
        "  print(\"Se cumple\")\n",
        "else:\n",
        "  print(\"No se cumple\")"
      ],
      "execution_count": 48,
      "outputs": [
        {
          "output_type": "stream",
          "text": [
            "Se cumple\n"
          ],
          "name": "stdout"
        }
      ]
    },
    {
      "cell_type": "code",
      "metadata": {
        "colab": {
          "base_uri": "https://localhost:8080/"
        },
        "id": "GUMCpRtWjT35",
        "outputId": "fc766a00-5507-40cc-c540-8f902580fd38"
      },
      "source": [
        "# Dos comparaciones\n",
        "if 10 <= 10 or  5>10:\n",
        "  # Se cumple, puesto que basta sólo 1 verdad\n",
        "  print(\"Se cumple\")\n",
        "else:\n",
        "  print(\"No se cumple\")"
      ],
      "execution_count": 49,
      "outputs": [
        {
          "output_type": "stream",
          "text": [
            "Se cumple\n"
          ],
          "name": "stdout"
        }
      ]
    },
    {
      "cell_type": "code",
      "metadata": {
        "colab": {
          "base_uri": "https://localhost:8080/"
        },
        "id": "SEB_8vBDjVZR",
        "outputId": "c2b7f8f6-9c38-43e4-a08f-782c4fb2ade3"
      },
      "source": [
        "# distinto\n",
        "if \"Juan\" != \"Pepe\":\n",
        "  print(\"Es distinto\")\n",
        "else:\n",
        "  print(\"No es distinto\")"
      ],
      "execution_count": 50,
      "outputs": [
        {
          "output_type": "stream",
          "text": [
            "Es distinto\n"
          ],
          "name": "stdout"
        }
      ]
    },
    {
      "cell_type": "code",
      "metadata": {
        "colab": {
          "base_uri": "https://localhost:8080/"
        },
        "id": "44LiUmjrjWsO",
        "outputId": "5cd0963a-3733-4a4d-ac95-a9e21fe80aed"
      },
      "source": [
        "# incluido en lista\n",
        "if 5 in [\"1\",\"2\",\"5\"]:\n",
        "  print(\"Está en la lista\")\n",
        "else:\n",
        "  print(\"No está en la lista\")"
      ],
      "execution_count": 51,
      "outputs": [
        {
          "output_type": "stream",
          "text": [
            "No está en la lista\n"
          ],
          "name": "stdout"
        }
      ]
    },
    {
      "cell_type": "code",
      "metadata": {
        "colab": {
          "base_uri": "https://localhost:8080/"
        },
        "id": "Ph4kS0qUjYg-",
        "outputId": "b89cb3ac-2ea2-425c-8529-ccf67e355c61"
      },
      "source": [
        "# incluido en lista\n",
        "if 5 in [\"1\",\"2\",5]:\n",
        "  print(\"Está en la lista\")\n",
        "else:\n",
        "  print(\"No está en la lista\")"
      ],
      "execution_count": 52,
      "outputs": [
        {
          "output_type": "stream",
          "text": [
            "Está en la lista\n"
          ],
          "name": "stdout"
        }
      ]
    },
    {
      "cell_type": "code",
      "metadata": {
        "colab": {
          "base_uri": "https://localhost:8080/"
        },
        "id": "14optv6tjZJr",
        "outputId": "4e0861a8-0e0b-48bf-f0e4-3938d4cf366a"
      },
      "source": [
        "# NO ESTÉ incluido en lista\n",
        "if 5 not in [\"1\",\"2\",5]:\n",
        "  print(\"Condición VERDADERA, no está en la lista\")\n",
        "else:\n",
        "  print(\"Condición FALSA, pues sí está en la lista\")"
      ],
      "execution_count": 53,
      "outputs": [
        {
          "output_type": "stream",
          "text": [
            "Condición FALSA, pues sí está en la lista\n"
          ],
          "name": "stdout"
        }
      ]
    },
    {
      "cell_type": "code",
      "metadata": {
        "colab": {
          "base_uri": "https://localhost:8080/"
        },
        "id": "yoKlIlyXjqW7",
        "outputId": "969d71ad-abf8-447e-e0fe-d8632b93d59e"
      },
      "source": [
        "# NO ESTÉ incluido en lista\n",
        "if \"5\" not in [\"1\",\"2\",5]:\n",
        "  print(\"Condición VERDADERA, no está en la lista\")\n",
        "else:\n",
        "  print(\"Condición FALSA, pues sí está en la lista\")"
      ],
      "execution_count": 54,
      "outputs": [
        {
          "output_type": "stream",
          "text": [
            "Condición VERDADERA, no está en la lista\n"
          ],
          "name": "stdout"
        }
      ]
    },
    {
      "cell_type": "markdown",
      "metadata": {
        "id": "3n_7JBnbjGBc"
      },
      "source": [
        "## For"
      ]
    },
    {
      "cell_type": "code",
      "metadata": {
        "colab": {
          "base_uri": "https://localhost:8080/"
        },
        "id": "rbE3qWbSjJJF",
        "outputId": "d8be88cd-b23e-4807-c3a8-67db8a64e911"
      },
      "source": [
        "# De 0 a 5\n",
        "for i in range(5):\n",
        "  print(i)"
      ],
      "execution_count": 55,
      "outputs": [
        {
          "output_type": "stream",
          "text": [
            "0\n",
            "1\n",
            "2\n",
            "3\n",
            "4\n"
          ],
          "name": "stdout"
        }
      ]
    },
    {
      "cell_type": "code",
      "metadata": {
        "colab": {
          "base_uri": "https://localhost:8080/"
        },
        "id": "zcYpAUJtjI8Q",
        "outputId": "3925cd26-da84-45b6-cae9-1d93e3d02f84"
      },
      "source": [
        "# De 1 a 5 con saltos de 2\n",
        "for i in range(1,5,2):\n",
        "  print(i)"
      ],
      "execution_count": 56,
      "outputs": [
        {
          "output_type": "stream",
          "text": [
            "1\n",
            "3\n"
          ],
          "name": "stdout"
        }
      ]
    },
    {
      "cell_type": "code",
      "metadata": {
        "colab": {
          "base_uri": "https://localhost:8080/"
        },
        "id": "NdG-S6dDjI28",
        "outputId": "70744de6-08bf-49de-9891-812be7903c60"
      },
      "source": [
        "# De 0 a -10 con saltos negativos\n",
        "for i in range(0,-10,-2):\n",
        "  print(i)"
      ],
      "execution_count": 57,
      "outputs": [
        {
          "output_type": "stream",
          "text": [
            "0\n",
            "-2\n",
            "-4\n",
            "-6\n",
            "-8\n"
          ],
          "name": "stdout"
        }
      ]
    },
    {
      "cell_type": "code",
      "metadata": {
        "colab": {
          "base_uri": "https://localhost:8080/"
        },
        "id": "hyefrFhKjI1B",
        "outputId": "b65f089e-14f5-4628-fc03-cfbfdbd1131b"
      },
      "source": [
        "# recorriendo cada elemento de una lista\n",
        "for niño in [\"Tomás\",\"Jaime\",\"Arthur\",\"Paco\"]:\n",
        "  print(niño)"
      ],
      "execution_count": 58,
      "outputs": [
        {
          "output_type": "stream",
          "text": [
            "Tomás\n",
            "Jaime\n",
            "Arthur\n",
            "Paco\n"
          ],
          "name": "stdout"
        }
      ]
    },
    {
      "cell_type": "markdown",
      "metadata": {
        "id": "FOQ7wMmRjK7N"
      },
      "source": [
        "## While"
      ]
    },
    {
      "cell_type": "code",
      "metadata": {
        "colab": {
          "base_uri": "https://localhost:8080/"
        },
        "id": "GUHVp3TWj5Z7",
        "outputId": "853e4c53-e073-4962-824b-07bf85f82b63"
      },
      "source": [
        "# Ciclo 'infinito'\n",
        "k = 0\n",
        "while True:\n",
        "  print(f\"iteración: {k+1}\")\n",
        "  k+=1\n",
        "\n",
        "  # Para efectos prácticos, pondremos nuestro freno\n",
        "  if k == 10:\n",
        "    # Rompe el ciclo, sea while o for\n",
        "    break"
      ],
      "execution_count": 59,
      "outputs": [
        {
          "output_type": "stream",
          "text": [
            "iteración: 1\n",
            "iteración: 2\n",
            "iteración: 3\n",
            "iteración: 4\n",
            "iteración: 5\n",
            "iteración: 6\n",
            "iteración: 7\n",
            "iteración: 8\n",
            "iteración: 9\n",
            "iteración: 10\n"
          ],
          "name": "stdout"
        }
      ]
    },
    {
      "cell_type": "code",
      "metadata": {
        "colab": {
          "base_uri": "https://localhost:8080/"
        },
        "id": "86Ri97oJkBsp",
        "outputId": "2a3fc535-aef1-4ac1-aff6-ce8a3862c0fe"
      },
      "source": [
        "aux = 5\n",
        "# Ciclo  incremental\n",
        "while aux < 10:\n",
        "  print(aux)\n",
        "  aux+=1"
      ],
      "execution_count": 60,
      "outputs": [
        {
          "output_type": "stream",
          "text": [
            "5\n",
            "6\n",
            "7\n",
            "8\n",
            "9\n"
          ],
          "name": "stdout"
        }
      ]
    },
    {
      "cell_type": "markdown",
      "metadata": {
        "id": "jKXixIoVkJkU"
      },
      "source": [
        "---\n",
        "# Ejercicios\n",
        "---"
      ]
    },
    {
      "cell_type": "markdown",
      "metadata": {
        "id": "nKQL0Tdfk3tV"
      },
      "source": [
        "\n",
        "\n",
        "1.    Genera una Función que reciba 3 elementos:\n",
        "\n",
        "     * Nombre de la tabla\n",
        "     * Columnas\n",
        "     * Valores\n",
        "\n",
        "    Y devuelva una instrucción INSERT INTO. Por ejemplo:\n",
        "\n",
        "    Funcion(variable1, variable2, variable3)\n",
        "    \n",
        "    \\>>>\"INSERT INTO empleados (nombre,edad,genero) VALUES ('Javier Gómez', 35, 'M');\"\n",
        "\n",
        "2.  Dado el siguiente texto: \n",
        "\n",
        "    \"Mario compró: 6 manzanas, 4 peras, 2 naranjas, 1 limón\"\n",
        "\n",
        "    * Extrae en una lista las frutas y cantidades que compró Mario\n",
        "    \n",
        "      \\>>> [\"6 manzanas\", \"4 peras\", \"2 naranjas\", \"1 limón\"]\n",
        "\n",
        "    * **OPCIONAL**: Divide la lista en 2, una de strings y otra de enteros:\n",
        "\n",
        "      \\>>> [\"manzanas\", \"peras\", \"naranjas\", \"limón\"]\n",
        "\n",
        "      \\>>> [6, 4, 2, 1]\n",
        "3. Genera una función que calcule la octava potencia de un número, la imprima y devuelva. Ejemplo de funcionamiento:\n",
        "\n",
        "    numero = 8\n",
        "\n",
        "    resultado = funcion(numero)\n",
        "\n",
        "    \\>>>\"La octava potencia de ___  es ___\"\n",
        "\n",
        "    print(resultado)\n",
        "\n",
        "    \\>>> 16777216\n",
        "\n",
        "4. Identifica los números de la siguiente lista:\n",
        "\n",
        "    [\"Hola\",\"Adiós\",\"Avión\",4,\"Samantha\",\"Rodrigo\",5]\n"
      ]
    }
  ]
}