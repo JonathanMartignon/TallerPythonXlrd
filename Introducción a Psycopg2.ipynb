{
 "cells": [
  {
   "cell_type": "markdown",
   "metadata": {},
   "source": [
    "# Libreta introductoria a PostgreSQL y Python.\n",
    "## Por: Jonathan Martiñón"
   ]
  },
  {
   "cell_type": "markdown",
   "metadata": {},
   "source": [
    "---\n",
    "# PostgreSQL\n",
    "Para instalar PostgreSQL en Windows podemos apoyarnos de:\n",
    "* Sitio oficial: [PostgreSQL](https://www.postgresql.org/download/)\n",
    "* *'The Coder Cave Esp'* y seguir su [Video](https://www.youtube.com/watch?v=RgP1njsQO0g&ab_channel=TheCoderCaveesp) de instalación\n",
    "* Para agregar postgresql al bin [link](https://www.microfocus.com/documentation/idol/IDOL_12_0/MediaServer/Guides/html/English/Content/Getting_Started/Configure/_TRN_Set_up_PostgreSQL.htm)\n",
    "* Para ejecutar un script basta con:\n",
    "  - Para entrar a postgres `psql -U usuario`\n",
    "  - Situarnos en la ruta donde está el script, entrar en postgres y ejecutar `\\i Script.sql`\n",
    "  - Nota: En mi caso era necesario entrar como Administrador, no sé si a todos s\n",
    "---\n",
    "# PsyCopG2\n",
    "\n",
    "- Para su instalación revisar la [Documentación](https://pypi.org/project/psycopg2/).\n",
    "\n",
    "- Mayor información en: [psycopg](https://www.psycopg.org/)\n",
    "---"
   ]
  },
  {
   "cell_type": "markdown",
   "metadata": {},
   "source": [
    "# Librerías"
   ]
  },
  {
   "cell_type": "code",
   "execution_count": 1,
   "metadata": {},
   "outputs": [],
   "source": [
    "try:\n",
    "    import psycopg2\n",
    "except:\n",
    "    # Por motivos curiosos, salió un warning que me indicó \n",
    "    # Que se debía instalar desde el binario\n",
    "    !pip install psycopg2-binary\n",
    "    import psycopg2"
   ]
  },
  {
   "cell_type": "markdown",
   "metadata": {},
   "source": [
    "# Conexión\n",
    "Para conocer el puerto, podemos ejecutar:\n",
    "\n",
    "`-# SELECT *\n",
    "-# FROM pg_settings\n",
    "-# WHERE name = 'port';\n",
    "` \n",
    "\n",
    "Por defecto es el 5423"
   ]
  },
  {
   "cell_type": "code",
   "execution_count": 2,
   "metadata": {},
   "outputs": [],
   "source": [
    "# Realizamos la conexión a la base de datos.\n",
    "conexion = psycopg2.connect(database=\"taller_db\", user=\"user_t\", password=\"usuario\", host=\"localhost\", port =\"5432\")"
   ]
  },
  {
   "cell_type": "code",
   "execution_count": 3,
   "metadata": {},
   "outputs": [],
   "source": [
    "# Creamos un cursor, que nos permitirá \"navegar\" y hacer acciones\n",
    "# En la base de datos\n",
    "cursor=conexion.cursor()"
   ]
  },
  {
   "cell_type": "markdown",
   "metadata": {},
   "source": [
    "# Execute\n",
    "Como es fácil de intuir, será lo equivalente a la interfaz dónde indicamos la acción a realizar (INSERT, ALTER, DROP), claro, dependiendo de los permisos con los que el usuario cuente.\n",
    "\n",
    "Si se ejecutan 2 seguidos, se sobreescribirá el valor del primero."
   ]
  },
  {
   "cell_type": "markdown",
   "metadata": {},
   "source": [
    "## INSERT"
   ]
  },
  {
   "cell_type": "code",
   "execution_count": 4,
   "metadata": {},
   "outputs": [],
   "source": [
    "# Recomendado\n",
    "\n",
    "instruccion = \"\"\" INSERT INTO materia (nombre) \n",
    "VALUES (%s) \"\"\"\n",
    "   \n",
    "valores = ('Electricidad',)\n",
    "\n",
    "cursor.execute(instruccion, valores)"
   ]
  },
  {
   "cell_type": "code",
   "execution_count": 5,
   "metadata": {},
   "outputs": [],
   "source": [
    "# Como me acomodé\n",
    "cursor.execute(\"INSERT INTO materia (nombre) VALUES ('Gimnasia'),('Artes'),('Biología')\")"
   ]
  },
  {
   "cell_type": "markdown",
   "metadata": {},
   "source": [
    "# CREATE"
   ]
  },
  {
   "cell_type": "code",
   "execution_count": 6,
   "metadata": {},
   "outputs": [],
   "source": [
    "# Definimos nuestra instrucción\n",
    "instruccion = \"\"\"CREATE TABLE cuenta (\n",
    "id INT PRIMARY KEY NOT NULL,\n",
    "propietario TEXT NOT NULL,\n",
    "cantidad INT NOT NULL,\n",
    "fecha DATE NOT NULL\n",
    ")\"\"\"\n",
    "\n",
    "# Ejecutamos la instrucción\n",
    "cursor.execute(instruccion)"
   ]
  },
  {
   "cell_type": "markdown",
   "metadata": {},
   "source": [
    "## Excecutemany()\n",
    "Permite ejecutar una serie de instrucciones"
   ]
  },
  {
   "cell_type": "code",
   "execution_count": 7,
   "metadata": {},
   "outputs": [
    {
     "name": "stdout",
     "output_type": "stream",
     "text": [
      "Datos subidos con éxito\n"
     ]
    }
   ],
   "source": [
    "instruccion = \"INSERT INTO cuenta (id, propietario, cantidad, fecha) VALUES (%s, %s, %s,%s)\"\n",
    "\n",
    "# Para demostración del default\n",
    "valores = [(1, 'Javier', 12000,'2021-08-13'),\n",
    "           (2, 'Helena', 23000,'2021-12-23'),\n",
    "           (3, 'Hugo', 1200,'2021-12-23'),\n",
    "           (4, 'Mónica', 5,'2021-01-07'),\n",
    "           (5, 'Victor', 1203,'2021-12-02'),\n",
    "           (6, 'Ángela', 1247,'2021-05-14'),\n",
    "           (7, 'Esteban', 7543,'2021-02-22'),\n",
    "           (8, 'María', 8765,'2021-09-12')\n",
    "          ]\n",
    "\n",
    "# Ejecutamos cada elemento de la lista de valores\n",
    "cursor.executemany(instruccion, valores)\n",
    "\n",
    "print(\"Datos subidos con éxito\")"
   ]
  },
  {
   "cell_type": "markdown",
   "metadata": {},
   "source": [
    "Si quisiéramos sustituir ese faltante por la fecha de hoy, podremos apoyarnos de la librería `datetime` [Documentación](https://docs.python.org/es/3/library/datetime.html).\n",
    "\n",
    "Cualquier duda de la notación `%Y-%m-%d` [Documentación](https://www.w3schools.com/python/python_datetime.asp)"
   ]
  },
  {
   "cell_type": "code",
   "execution_count": 8,
   "metadata": {},
   "outputs": [
    {
     "name": "stdout",
     "output_type": "stream",
     "text": [
      "Información Actual: 2021-05-13 22:55:34.470605\n",
      "Día: 2021-05-13 <class 'str'>\n"
     ]
    }
   ],
   "source": [
    "from datetime import datetime\n",
    "\n",
    "# Obtenemos el día actuarl\n",
    "today = datetime.today()\n",
    "# Podemos observar que se cuenta hasta con el tiempo\n",
    "print(\"Información Actual:\",today)\n",
    "\n",
    "# Convertimos el formato de datetime a string\n",
    "# Indicando tanto el orden como que únicamente deseamos\n",
    "day_as_string = today.strftime('%Y-%m-%d')\n",
    "print(\"Día:\",day_as_string,type(day_as_string))\n",
    "\n",
    "\n",
    "#------------------------------\n",
    "# En una sóla instrucción\n",
    "#------------------------------\n",
    "\n",
    "# datetime.today().strftime('%Y-%m-%d')"
   ]
  },
  {
   "cell_type": "markdown",
   "metadata": {},
   "source": [
    "# Fetch"
   ]
  },
  {
   "cell_type": "markdown",
   "metadata": {},
   "source": [
    "## One\n",
    "Extraemos el resultado de la consulta realizada. Se extrae un resultado (ONE), podemos verlo como el método POP de una cola. Si ejecutamos 'n' veces dejaremos vacía la cola y no existirán elementos.\n",
    "\n",
    "Para almacenar los elementos y evitar perderlos, podemos almacenarlos en una variable o una lista (Dependerá del objetivo)"
   ]
  },
  {
   "cell_type": "code",
   "execution_count": 9,
   "metadata": {},
   "outputs": [],
   "source": [
    "# Realizamos una consulta\n",
    "cursor.execute(\"SELECT * FROM materia\")"
   ]
  },
  {
   "cell_type": "code",
   "execution_count": 10,
   "metadata": {},
   "outputs": [
    {
     "name": "stdout",
     "output_type": "stream",
     "text": [
      "De nuestra consulta, tenemos:  (29, 'Electricidad        ') \n",
      "\n"
     ]
    }
   ],
   "source": [
    "# Podemos ejecutar esta celda 'n' veces\n",
    "print(\"De nuestra consulta, tenemos: \", cursor.fetchone(),\"\\n\")"
   ]
  },
  {
   "cell_type": "markdown",
   "metadata": {},
   "source": [
    "Del resultado anterior podemos observar que la estructura resultante es algo del estilo `(valor1, valor2)`. A este tipo de estructuras lo conocemos como **TUPLA** y podemos acceder a ella de la misma forma que accederíamos a una lista.\n",
    "\n",
    "- tupla[0] \n",
    "\n",
    "  \\>>> valor1\n",
    "- tupla[1]\n",
    "\n",
    "  \\>>> valor2\n",
    "  \n",
    "La diferencia es que no podremos sobreescribir los valores\n",
    "- tupla[0] = 'nuevo valor'\n",
    "\n",
    "  \\>>> Error!!"
   ]
  },
  {
   "cell_type": "code",
   "execution_count": 11,
   "metadata": {},
   "outputs": [],
   "source": [
    "# Realizamos una consulta\n",
    "cursor.execute(\"SELECT * FROM materia\")"
   ]
  },
  {
   "cell_type": "code",
   "execution_count": 12,
   "metadata": {},
   "outputs": [],
   "source": [
    "# Extrae el primer elemento del resultado\n",
    "materia = cursor.fetchone()"
   ]
  },
  {
   "cell_type": "code",
   "execution_count": 13,
   "metadata": {},
   "outputs": [
    {
     "name": "stdout",
     "output_type": "stream",
     "text": [
      "(29, 'Electricidad        ')\n",
      "<class 'tuple'>\n"
     ]
    }
   ],
   "source": [
    "# Mostramos el registro obtenido\n",
    "print(materia)\n",
    "# Mostramos el tipo de registro para comprobar que es una tupla\n",
    "print(type(materia))"
   ]
  },
  {
   "cell_type": "markdown",
   "metadata": {},
   "source": [
    "Dado que el segundo valor \"Matemáticas\", presenta espacios en blanco lo que se puede atribuir al espacio máximo dedicado a dicho campo, podemos apoyarnos de la función `strip()` [Documentación](https://www.w3schools.com/python/ref_string_strip.asp)"
   ]
  },
  {
   "cell_type": "code",
   "execution_count": 14,
   "metadata": {},
   "outputs": [
    {
     "data": {
      "text/plain": [
       "'Electricidad'"
      ]
     },
     "execution_count": 14,
     "metadata": {},
     "output_type": "execute_result"
    }
   ],
   "source": [
    "materia[1].strip()"
   ]
  },
  {
   "cell_type": "markdown",
   "metadata": {},
   "source": [
    "Si no ejecutamos ninguna otra instrucción, podremos acceder y extraer el siguiente valor presente en nuestra consulta (Nuevamente llamando a `fetchone`)."
   ]
  },
  {
   "cell_type": "code",
   "execution_count": 15,
   "metadata": {},
   "outputs": [],
   "source": [
    "# Extrae el primer elemento de los resultados que quedan\n",
    "materia2 = cursor.fetchone()"
   ]
  },
  {
   "cell_type": "code",
   "execution_count": 16,
   "metadata": {},
   "outputs": [
    {
     "name": "stdout",
     "output_type": "stream",
     "text": [
      "(30, 'Gimnasia            ')\n",
      "<class 'tuple'>\n"
     ]
    }
   ],
   "source": [
    "# Mostramos el registro obtenido\n",
    "print(materia2)\n",
    "# Mostramos el tipo de registro para comprobar que es una tupla\n",
    "print(type(materia2))"
   ]
  },
  {
   "cell_type": "code",
   "execution_count": 17,
   "metadata": {},
   "outputs": [
    {
     "data": {
      "text/plain": [
       "(30, 'Gimnasia            ')"
      ]
     },
     "execution_count": 17,
     "metadata": {},
     "output_type": "execute_result"
    }
   ],
   "source": [
    "materia2"
   ]
  },
  {
   "cell_type": "markdown",
   "metadata": {},
   "source": [
    "## All\n",
    "De manera bastante intuitiva, podremos llegar a la conclusión de que la función `fetchall()` extrae todos los resultados de la consulta realizada. Al igual que el anterior, se trata de un `pop`, por lo que sólo servirá una vez.\n",
    "\n",
    "Para almacenar los elementos y evitar perderlos, podemos almacenarlos en una variable o una lista (Dependerá del objetivo)"
   ]
  },
  {
   "cell_type": "code",
   "execution_count": 18,
   "metadata": {},
   "outputs": [
    {
     "data": {
      "text/plain": [
       "[]"
      ]
     },
     "execution_count": 18,
     "metadata": {},
     "output_type": "execute_result"
    }
   ],
   "source": [
    "# Demostración de sobreescritura:\n",
    "\n",
    "# Realizamos una consulta\n",
    "cursor.execute(\"SELECT * FROM materia\")\n",
    "# Realizamos otra consulta\n",
    "cursor.execute(\"SELECT * FROM alumno\")\n",
    "\n",
    "cursor.fetchall()"
   ]
  },
  {
   "cell_type": "code",
   "execution_count": 19,
   "metadata": {},
   "outputs": [
    {
     "data": {
      "text/plain": [
       "[(29, 'Electricidad        '),\n",
       " (30, 'Gimnasia            '),\n",
       " (31, 'Artes               '),\n",
       " (32, 'Biología            ')]"
      ]
     },
     "execution_count": 19,
     "metadata": {},
     "output_type": "execute_result"
    }
   ],
   "source": [
    "# Si sólo hacemos una consulta: \n",
    "\n",
    "# Realizamos una consulta\n",
    "cursor.execute(\"SELECT * FROM materia\")\n",
    "\n",
    "#Aplicando un primer fetchall\n",
    "cursor.fetchall()"
   ]
  },
  {
   "cell_type": "code",
   "execution_count": 20,
   "metadata": {},
   "outputs": [
    {
     "data": {
      "text/plain": [
       "[]"
      ]
     },
     "execution_count": 20,
     "metadata": {},
     "output_type": "execute_result"
    }
   ],
   "source": [
    "# Intentando un segundo fetchall()\n",
    "cursor.fetchall()"
   ]
  },
  {
   "cell_type": "markdown",
   "metadata": {},
   "source": [
    "# Many\n",
    "En caso de que no deseemos recuperar sólo una salida pero tampoco todas, digamos, algo así como el Top10, podemos hacer uso de `fetchmany()`"
   ]
  },
  {
   "cell_type": "code",
   "execution_count": 21,
   "metadata": {},
   "outputs": [
    {
     "data": {
      "text/plain": [
       "[(29, 'Electricidad        '), (30, 'Gimnasia            ')]"
      ]
     },
     "execution_count": 21,
     "metadata": {},
     "output_type": "execute_result"
    }
   ],
   "source": [
    "# Realizamos una consulta\n",
    "cursor.execute(\"SELECT * FROM materia\")\n",
    "\n",
    "#Aplicando un primer fetchall\n",
    "cursor.fetchmany(2)"
   ]
  },
  {
   "cell_type": "markdown",
   "metadata": {},
   "source": [
    "# Commit\n",
    "Si nosotros consultásemos la base de datos en este momento, podremos observar que no se han añadido valores, es por ello que se realiza un commit, de tal forma que se guarden los cambios."
   ]
  },
  {
   "cell_type": "code",
   "execution_count": 22,
   "metadata": {},
   "outputs": [],
   "source": [
    "connection.commit()"
   ]
  },
  {
   "cell_type": "markdown",
   "metadata": {},
   "source": [
    "# Finalización"
   ]
  },
  {
   "cell_type": "code",
   "execution_count": 23,
   "metadata": {},
   "outputs": [
    {
     "name": "stdout",
     "output_type": "stream",
     "text": [
      "La conexión se ha cerrado.\n",
      "\tGracias por tu visita (:\n"
     ]
    }
   ],
   "source": [
    "# Cerramos el cursor primero\n",
    "cursor.close()\n",
    "# Y Posteriormente cerramos la conexión\n",
    "conexion.close()\n",
    "# Un bonito mensaje final\n",
    "print(\"La conexión se ha cerrado.\\n\\tGracias por tu visita (:\")"
   ]
  }
 ],
 "metadata": {
  "kernelspec": {
   "display_name": "Python 3",
   "language": "python",
   "name": "python3"
  },
  "language_info": {
   "codemirror_mode": {
    "name": "ipython",
    "version": 3
   },
   "file_extension": ".py",
   "mimetype": "text/x-python",
   "name": "python",
   "nbconvert_exporter": "python",
   "pygments_lexer": "ipython3",
   "version": "3.8.5"
  }
 },
 "nbformat": 4,
 "nbformat_minor": 4
}
