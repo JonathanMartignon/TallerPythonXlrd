{
 "cells": [
  {
   "cell_type": "markdown",
   "metadata": {},
   "source": [
    "# Libreta práctica que unifica xlrd y postgresql\n",
    "## Por: Jonathan Martiñón"
   ]
  },
  {
   "cell_type": "markdown",
   "metadata": {},
   "source": [
    "# Librerías"
   ]
  },
  {
   "cell_type": "code",
   "execution_count": 15,
   "metadata": {},
   "outputs": [],
   "source": [
    "# Importamos xlrd\n",
    "try:\n",
    "    import xlrd\n",
    "except:\n",
    "    !pip install xlrd\n",
    "    import xlrd\n",
    "\n",
    "# importamos psycopg2\n",
    "try:\n",
    "    import psycopg2\n",
    "except:\n",
    "    !pip install psycopg2-binary\n",
    "    import psycopg2"
   ]
  },
  {
   "cell_type": "markdown",
   "metadata": {},
   "source": [
    "# Funciones"
   ]
  },
  {
   "cell_type": "code",
   "execution_count": 47,
   "metadata": {},
   "outputs": [],
   "source": [
    "def extrae_registro(registro):\n",
    "    '''\n",
    "    @Autor: Jonathan Martiñón\n",
    "\n",
    "    @Descripción:   Función encargada de extraer valores\n",
    "                    de un renglón de xlrd y eliminar vacíos.\n",
    "    @Parámetros:\n",
    "\n",
    "    lista           registro de elementos              LIST of xlrd.sheet.Cell\n",
    "\n",
    "    @Devuelve:  \n",
    "    \n",
    "    new_registro    Lista con valores ya sin formato   LIST\n",
    "                    de celdas\n",
    "\n",
    "    @Ejemplo:\n",
    "\n",
    "    # Cada elemento debe ser de tipo xlrd.sheet.Cell\n",
    "    registro = [number:1.0, text:'Gómez', text:'García', text:'Eduardo']\n",
    "    extrae_registro(registro)\n",
    "    >>> [1, 'Gómez', 'García', 'Eduardo']\n",
    "    \n",
    "    \n",
    "    registro = [number:4.0, empty:'', empty:'', text:'Sandra']\n",
    "    extrae_registro(registro)\n",
    "    >>> [4, 'default', 'default', 'Sandra']\n",
    "    \n",
    "    '''\n",
    "    # Creamos una tupla auxiliar que almacenará el registro con el \n",
    "    # nuevo formato\n",
    "    new_registro = ()\n",
    "    \n",
    "    # Recorremos cada elemento del registro\n",
    "    for i, campo in enumerate(registro):\n",
    "        \n",
    "        # si existe valor en el campo\n",
    "        if campo.value:\n",
    "                \n",
    "            #Sabemos que sólo hay enteros en id, por lo que\n",
    "            try:\n",
    "                # Intentaremos convertir el valor a entero\n",
    "                new_registro+= (int(campo.value),)\n",
    "            except:\n",
    "                # Si no se puede, es una cadena de texto\n",
    "                new_registro+= (campo.value,)\n",
    "                \n",
    "        # En caso de que el campo esté vacío\n",
    "        else:\n",
    "            new_registro+= (\"default\",)\n",
    "    \n",
    "    # Devolvemos el registro\n",
    "    return new_registro"
   ]
  },
  {
   "cell_type": "markdown",
   "metadata": {},
   "source": [
    "# Lectura de datos"
   ]
  },
  {
   "cell_type": "code",
   "execution_count": 16,
   "metadata": {
    "scrolled": true
   },
   "outputs": [
    {
     "data": {
      "text/plain": [
       "<xlrd.book.Book at 0x21f2adf7df0>"
      ]
     },
     "execution_count": 16,
     "metadata": {},
     "output_type": "execute_result"
    }
   ],
   "source": [
    "# Realizamos la lectura del documento excel\n",
    "documento = xlrd.open_workbook(\"./Documento interactivo para taller.xlsx\")\n",
    "documento"
   ]
  },
  {
   "cell_type": "markdown",
   "metadata": {},
   "source": [
    "Ya conocemos el documento y las hojas presentes, pero de igual forma, mostramos cuáles son las hojas presentes"
   ]
  },
  {
   "cell_type": "code",
   "execution_count": 17,
   "metadata": {},
   "outputs": [
    {
     "data": {
      "text/plain": [
       "['Calificaciones', 'Alumnos', 'Materias', 'Profesores']"
      ]
     },
     "execution_count": 17,
     "metadata": {},
     "output_type": "execute_result"
    }
   ],
   "source": [
    "# Mostramos los nombres de las hojas\n",
    "documento.sheet_names()"
   ]
  },
  {
   "cell_type": "markdown",
   "metadata": {},
   "source": [
    "Debido a la presencia de datos nulos, trabajaremos con la tabla **'Alumnos'**"
   ]
  },
  {
   "cell_type": "code",
   "execution_count": 18,
   "metadata": {},
   "outputs": [
    {
     "data": {
      "text/plain": [
       "<xlrd.sheet.Sheet at 0x21f2aff2a60>"
      ]
     },
     "execution_count": 18,
     "metadata": {},
     "output_type": "execute_result"
    }
   ],
   "source": [
    "hoja_alumnos = documento.sheet_by_name(\"Alumnos\")\n",
    "hoja_alumnos"
   ]
  },
  {
   "cell_type": "markdown",
   "metadata": {},
   "source": [
    "# Análisis"
   ]
  },
  {
   "cell_type": "markdown",
   "metadata": {},
   "source": [
    "Identificamos a partir de qué punto comienzan nuestros registros"
   ]
  },
  {
   "cell_type": "code",
   "execution_count": 19,
   "metadata": {},
   "outputs": [
    {
     "name": "stdout",
     "output_type": "stream",
     "text": [
      "Renglón 3: [text:'No. Cuenta', text:'Primer apellido', text:'Segundo Apellido', text:'Nombre(s)']\n"
     ]
    }
   ],
   "source": [
    "# inicio de cabeceras\n",
    "i= 2\n",
    "print(f\"Renglón {i+1}: {hoja_alumnos.row(i)}\")"
   ]
  },
  {
   "cell_type": "code",
   "execution_count": 20,
   "metadata": {},
   "outputs": [
    {
     "name": "stdout",
     "output_type": "stream",
     "text": [
      "Renglón 4: [number:1.0, text:'Gómez', text:'García', text:'Eduardo']\n"
     ]
    }
   ],
   "source": [
    "# Inicio de registros\n",
    "i= 3\n",
    "print(f\"Renglón {i+1}: {hoja_alumnos.row(i)}\")"
   ]
  },
  {
   "cell_type": "markdown",
   "metadata": {},
   "source": [
    "# Pre-procesamiento"
   ]
  },
  {
   "cell_type": "code",
   "execution_count": 21,
   "metadata": {},
   "outputs": [],
   "source": [
    "# Generamos nuestra instrucción\n",
    "instruccion = '''\n",
    "INSERT INTO alumno (numero_de_cuenta, primer_apellido, segundo_apellido,nombre)\n",
    "VALUES (%s,%s,%s,%s)\n",
    "'''"
   ]
  },
  {
   "cell_type": "markdown",
   "metadata": {},
   "source": [
    "Recopilaremos cada renglón presente en el registro"
   ]
  },
  {
   "cell_type": "code",
   "execution_count": 48,
   "metadata": {},
   "outputs": [],
   "source": [
    "# Generamos una lista que contenga los registros\n",
    "registros = []\n",
    "\n",
    "# Sabemos que los registros abarcan toda la hoja\n",
    "# A partir del elemento 3, por lo que ajustamos\n",
    "# El ciclo\n",
    "for i in range(3, hoja_alumnos.nrows):\n",
    "    \n",
    "    # Mandamos el renglón a nuestra función\n",
    "    # para que pueda extraer y darle el formato que\n",
    "    # necesitamos.\n",
    "    reg_aux = extrae_registro(hoja_alumnos.row(i))\n",
    "    \n",
    "    # Posteriormente, lo agregamos en nuestra lista\n",
    "    registros.append(reg_aux)"
   ]
  },
  {
   "cell_type": "markdown",
   "metadata": {},
   "source": [
    "Verificamos que ya podemos aplicar un **executemany()**"
   ]
  },
  {
   "cell_type": "code",
   "execution_count": 49,
   "metadata": {},
   "outputs": [
    {
     "name": "stdout",
     "output_type": "stream",
     "text": [
      "Instrucción:\n",
      " \n",
      "INSERT INTO alumno (numero_de_cuenta, primer_apellido, segundo_apellido,nombre)\n",
      "VALUES (%s,%s,%s,%s)\n",
      "\n",
      "Valores:\n",
      " [(1, 'Gómez', 'García', 'Eduardo'), (2, 'Ortega', 'default', 'Amelia'), (3, 'Martínez', 'Orduña', 'Erick'), (4, 'default', 'default', 'Sandra'), (5, 'Sandoval', 'Hernández', 'Antonio'), (6, 'Moreno', 'Corella', 'Andrea'), (7, 'Díaz', 'Castro', 'Bernardo'), (8, 'Cisneros', 'López', 'Akatzin'), (9, 'Tapia', 'default', 'Mauricio'), (10, 'Luna', 'Téllez', 'Ivana')]\n"
     ]
    }
   ],
   "source": [
    "print(\"Instrucción:\\n\",instruccion)\n",
    "print(\"Valores:\\n\",registros)"
   ]
  },
  {
   "cell_type": "markdown",
   "metadata": {},
   "source": [
    "# Procesamiento"
   ]
  },
  {
   "cell_type": "code",
   "execution_count": 52,
   "metadata": {},
   "outputs": [],
   "source": [
    "# Nos conectamos a la base de datos\n",
    "conexion = psycopg2.connect(database=\"taller_db\", user=\"user_t\", password=\"usuario\", host=\"localhost\", port =\"5432\")"
   ]
  },
  {
   "cell_type": "code",
   "execution_count": 53,
   "metadata": {},
   "outputs": [],
   "source": [
    "# Iniciamos nuestro cursor\n",
    "cursor=conexion.cursor()"
   ]
  },
  {
   "cell_type": "code",
   "execution_count": 54,
   "metadata": {},
   "outputs": [
    {
     "name": "stdout",
     "output_type": "stream",
     "text": [
      "Datos subidos con éxito\n"
     ]
    }
   ],
   "source": [
    "# Ralizamos nuestro INSERT\n",
    "cursor.executemany(instruccion, registros)\n",
    "\n",
    "print(\"Datos subidos con éxito\")"
   ]
  },
  {
   "cell_type": "code",
   "execution_count": 55,
   "metadata": {},
   "outputs": [
    {
     "data": {
      "text/plain": [
       "[(1,\n",
       "  'Gómez               ',\n",
       "  'García              ',\n",
       "  'Eduardo                                 '),\n",
       " (2,\n",
       "  'Ortega              ',\n",
       "  'default             ',\n",
       "  'Amelia                                  '),\n",
       " (3,\n",
       "  'Martínez            ',\n",
       "  'Orduña              ',\n",
       "  'Erick                                   '),\n",
       " (4,\n",
       "  'default             ',\n",
       "  'default             ',\n",
       "  'Sandra                                  '),\n",
       " (5,\n",
       "  'Sandoval            ',\n",
       "  'Hernández           ',\n",
       "  'Antonio                                 '),\n",
       " (6,\n",
       "  'Moreno              ',\n",
       "  'Corella             ',\n",
       "  'Andrea                                  '),\n",
       " (7,\n",
       "  'Díaz                ',\n",
       "  'Castro              ',\n",
       "  'Bernardo                                '),\n",
       " (8,\n",
       "  'Cisneros            ',\n",
       "  'López               ',\n",
       "  'Akatzin                                 '),\n",
       " (9,\n",
       "  'Tapia               ',\n",
       "  'default             ',\n",
       "  'Mauricio                                '),\n",
       " (10,\n",
       "  'Luna                ',\n",
       "  'Téllez              ',\n",
       "  'Ivana                                   ')]"
      ]
     },
     "execution_count": 55,
     "metadata": {},
     "output_type": "execute_result"
    }
   ],
   "source": [
    "# Verificamos que sí existan valores\n",
    "\n",
    "# Realizamos una consulta\n",
    "cursor.execute(\"SELECT * FROM alumno\")\n",
    "\n",
    "#Aplicando un primer fetchall\n",
    "cursor.fetchall()"
   ]
  },
  {
   "cell_type": "code",
   "execution_count": 56,
   "metadata": {},
   "outputs": [],
   "source": [
    "# Guardamos cambios\n",
    "conexion.commit()"
   ]
  },
  {
   "cell_type": "code",
   "execution_count": 57,
   "metadata": {},
   "outputs": [
    {
     "name": "stdout",
     "output_type": "stream",
     "text": [
      "La conexión se ha cerrado.\n",
      "\tGracias por tu visita (:\n"
     ]
    }
   ],
   "source": [
    "# Finalizamos la sesión\n",
    "\n",
    "# Cerramos el cursor primero\n",
    "cursor.close()\n",
    "# Y Posteriormente cerramos la conexión\n",
    "conexion.close()\n",
    "# Un bonito mensaje final\n",
    "print(\"La conexión se ha cerrado.\\n\\tGracias por tu visita (:\")"
   ]
  }
 ],
 "metadata": {
  "kernelspec": {
   "display_name": "Python 3",
   "language": "python",
   "name": "python3"
  },
  "language_info": {
   "codemirror_mode": {
    "name": "ipython",
    "version": 3
   },
   "file_extension": ".py",
   "mimetype": "text/x-python",
   "name": "python",
   "nbconvert_exporter": "python",
   "pygments_lexer": "ipython3",
   "version": "3.8.5"
  }
 },
 "nbformat": 4,
 "nbformat_minor": 4
}
